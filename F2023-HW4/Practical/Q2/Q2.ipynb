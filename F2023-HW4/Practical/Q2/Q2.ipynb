{
 "cells": [
  {
   "attachments": {},
   "cell_type": "markdown",
   "metadata": {},
   "source": [
    "# <center>پیدا کردن ربات</center>\n",
    "\n",
    "<div dir=\"rtl\" style=\"font-size:18px\">\n",
    "احتمالا کارتون WALL-E را بخاطر دارید. رباتی که توانست زمین را نجات دهد و باقیمانده نسل انسان‌ها را به زمین برگرداند. پس از بازگشت انسان‌ها به زمین و پس از محبوبیت زیاد WALL-E، او دوستان زیادی پیدا کرد. بهترین دوست او WALL-F یکی از بازیگوش‌ترین ربات‌هایی است که تاحالا دیده‌اید.\n",
    "<br>\n",
    "یکی از دفعاتی که WALL-F به بیرون رفته بود، راهی به درون یک هزار‌تو میابد. تصویر زیر از او در این هزارتو گرفته شده است.\n",
    "</div>\n",
    "<br>\n",
    "<br>\n",
    "<center>\n",
    "\n",
    "![WALL-F Ai-Generated](Assets/robot.jpg)\n",
    "\n",
    "</center>"
   ]
  },
  {
   "attachments": {},
   "cell_type": "markdown",
   "metadata": {},
   "source": [
    "<div dir=\"rtl\">\n",
    "در ادامه میخواهیم با روش‌های مختلفی پیدا کنیم که در حال حاضر ربات در چه خانه‌ای قرار دارد. در هرکدام از تست‌کیس‌هایی که لازم است بررسی کنید. خانه 0 و 0 خانه بالا و چپ هزارتو خواهد بود. در ادامه برای هر خانه مشخص خواهد شد که دیواری به هرکدام از جهات دارد یا خیر. \n",
    "به طور مثال عبارت\n",
    "''R L''\n",
    "به این معنی است که این خانه فقط به چپ و راست خود راه دارد. همچنین شماره‌گذاری خانه‌ها به صورت زیر است.\n",
    "در هر مرحله او به شما میگوید که در کدام خانه از جدول است. عددی که ربات به شما میگوید یک عدد تصادفی است که در یک ماتریس به شما داده میشود. عدد سطر \n",
    "$i$ \n",
    "و ستون \n",
    "$j$ \n",
    "احتمال این را نشان می‌دهد که ربات در خانه \n",
    "$i$ \n",
    "باشد اما خانه \n",
    "$j$ \n",
    "را شما گزارش دهد. این ربات در پایان هر مرحله با احتمال برابر به یکی از خانه‌های مجاور میرود. همینطور خانه شروع این ربات هم توزیعی یکنواخت دارد.\n",
    "</div>\n",
    "<br>\n",
    "<br>\n",
    "<center>\n",
    "\n",
    "![grid](Assets/grid.jpg)\n",
    "\n",
    "</center>"
   ]
  },
  {
   "attachments": {},
   "cell_type": "markdown",
   "metadata": {},
   "source": [
    "<div dir=\"rtl\">\n",
    "در ابتدا برای پیاده‌سازی ۲ الگوریتمی که در ادامه خواهید دید به آبجکتی از نوع Grid نیاز خواهید داشت. عملکرد این آبجکت را میتوانید از مسیر Assets/helpers.py ببینید. به طور مثال هزارتو زیر را در نظر بگیرید.\n",
    "</div>\n",
    "\n",
    "<center>\n",
    "\n",
    "![maze](Assets/grid2.jpg)\n",
    "\n",
    "</center>"
   ]
  },
  {
   "attachments": {},
   "cell_type": "markdown",
   "metadata": {},
   "source": [
    "<div dir=\"rtl\">\n",
    "grid متناظر با این هزارتو را میتوانید از طریق تابع get_sample_grid بگیرید و با توابع آن آشنا شوید. در صورت لزوم میتوانید هر تابع دلخواهی به این کلاس اضافه کنید. برای اطلاع از تعداد سطرهای grid میتوانید از grid.n و برای اطلاع از تعداد ستون‌ها میتوانید از grid.m استفاده کنید.\n",
    "</div>"
   ]
  },
  {
   "cell_type": "code",
   "execution_count": 1,
   "metadata": {},
   "outputs": [],
   "source": [
    "student_number = '400110154'\n",
    "Name = 'Sina'\n",
    "Last_Name = 'Namazi'"
   ]
  },
  {
   "cell_type": "code",
   "execution_count": 2,
   "metadata": {},
   "outputs": [],
   "source": [
    "from Assets.helpers import get_sample_grid"
   ]
  },
  {
   "cell_type": "code",
   "execution_count": 3,
   "metadata": {},
   "outputs": [],
   "source": [
    "grid = get_sample_grid()"
   ]
  },
  {
   "attachments": {},
   "cell_type": "markdown",
   "metadata": {},
   "source": [
    "# Particle Filtering"
   ]
  },
  {
   "attachments": {},
   "cell_type": "markdown",
   "metadata": {},
   "source": [
    "<div dir=\"rtl\">\n",
    "در این قسمت باید آخرین خانه‌ای که این ربات در آن قرار دارد را با استفاده از الگوریتم Particle Filtering پیدا کنید. برای اینکار در ابتدا تعداد Particle هایی با تعدادی از اردر تعداد خانه‌های هزارتو بسازید. در پایان هر مرحله جمعیت را با توجه به وزن آنها نصف کنید و ذراتی جدید متناسب با تعداد ذرات درون هرخانه بسازید. در پایان خانه‌ای که بیشترین ذرات در آن قرار دارد را برگردانید.\n",
    "</div>"
   ]
  },
  {
   "cell_type": "code",
   "execution_count": 4,
   "metadata": {},
   "outputs": [],
   "source": [
    "import numpy as np\n",
    "import random\n",
    "\n",
    "def PF(grid, probs, obs):\n",
    "    \"\"\"\n",
    "    input:\n",
    "\n",
    "    grid: object of type Grid\n",
    "    obs: array of ints, each one is an observation\n",
    "\n",
    "    output: \n",
    "    number of the last cell\n",
    "    \"\"\"\n",
    "    n, m = grid.n, grid.m\n",
    "    num_particles = n * m * 15\n",
    "    particle_placement = {}\n",
    "    j = 0\n",
    "    for i in range(num_particles):\n",
    "        particle_placement[i] = j\n",
    "        j+=1\n",
    "        if j == n*m:\n",
    "            j = 0\n",
    "    \n",
    "    flag = True\n",
    "\n",
    "    for o in obs:\n",
    "\n",
    "        for i in range(num_particles):\n",
    "            if flag:\n",
    "                flag = False\n",
    "                break\n",
    "\n",
    "            p = particle_placement[i]\n",
    "            x, y = grid._get_indeces(p)\n",
    "            move = random.choice(grid.moves[x][y])\n",
    "            if move == 'R':\n",
    "                particle_placement[i] += 1\n",
    "            elif move == 'L':\n",
    "                particle_placement[i] -= 1\n",
    "            elif move == 'U':\n",
    "                particle_placement[i] -= m\n",
    "            elif move == 'D':\n",
    "                particle_placement[i] += m\n",
    "        \n",
    "        evidence = probs[:, o]\n",
    "\n",
    "        post_place_probs = [0 for i in range(n*m)]\n",
    "        for i in range(num_particles):\n",
    "            p = particle_placement[i]\n",
    "            post_place_probs[p] += evidence[p]\n",
    "        post_place_probs /= sum(post_place_probs)\n",
    "\n",
    "        new_places = np.random.choice([i for i in range(n*m)], size=num_particles, p=post_place_probs)\n",
    "        for i in range(num_particles):\n",
    "            particle_placement[i] = new_places[i]\n",
    "\n",
    "    \n",
    "    entries = [0 for i in range(n*m)]\n",
    "    for i in range(num_particles):\n",
    "        entries[particle_placement[i]] += 1\n",
    "    max_entry = max(entries)\n",
    "    return entries.index(max_entry)"
   ]
  },
  {
   "cell_type": "code",
   "execution_count": 5,
   "metadata": {},
   "outputs": [
    {
     "name": "stdout",
     "output_type": "stream",
     "text": [
      "PF PASSED!\n"
     ]
    }
   ],
   "source": [
    "from Assets.helpers import PF_checker\n",
    "PF_checker(PF)"
   ]
  },
  {
   "cell_type": "code",
   "execution_count": 6,
   "metadata": {},
   "outputs": [
    {
     "name": "stdout",
     "output_type": "stream",
     "text": [
      "PF PASSED!\n",
      "PF PASSED!\n",
      "PF PASSED!\n",
      "PF PASSED!\n",
      "PF PASSED!\n",
      "PF PASSED!\n",
      "PF PASSED!\n",
      "PF PASSED!\n",
      "PF PASSED!\n",
      "PF PASSED!\n"
     ]
    }
   ],
   "source": [
    "for i in range(10):\n",
    "    PF_checker(PF)"
   ]
  },
  {
   "attachments": {},
   "cell_type": "markdown",
   "metadata": {},
   "source": [
    "# HMM"
   ]
  },
  {
   "attachments": {},
   "cell_type": "markdown",
   "metadata": {},
   "source": [
    "<div dir=\"rtl\">\n",
    "در این قسمت غیر از اینکه باید بفهمیم WALL-F در کدام خانه قرار دارد. میخواهیم بدانیم که محتمل‌ترین مسیری که طی کرده‌ است چه مسیری است. برای اینکار الگوریتم viterbi را پیاده‌سازی کنید.\n",
    "</div>"
   ]
  },
  {
   "cell_type": "code",
   "execution_count": 7,
   "metadata": {},
   "outputs": [],
   "source": [
    "def viterbi(grid, probs, obs):\n",
    "    \"\"\"\n",
    "    input:\n",
    "\n",
    "    grid: object of type Grid\n",
    "    obs: array of ints, each one is an observation\n",
    "\n",
    "    output: \n",
    "    array of cell numbers, same shape as obs\n",
    "    \"\"\"\n",
    "    n, m = grid.n, grid.m\n",
    "    paths = {}\n",
    "    for i in range(n*m):\n",
    "        paths[i] = []\n",
    "    scores = np.ones((n*m))\n",
    "    first_emissions = probs[:, obs[0]].reshape((n*m))\n",
    "    scores = scores * first_emissions\n",
    "\n",
    "    for o in obs[1:]:\n",
    "        new_scores = np.copy(scores)\n",
    "        new_paths = {}\n",
    "        for i in range(n*m):\n",
    "            new_paths[i] = []\n",
    "        for i in range(n*m):\n",
    "            candidates = {}\n",
    "            if i-1 >=0 and i-1 < n*m:\n",
    "                x, y = grid._get_indeces(i-1)\n",
    "                if 'R' in grid.moves[x][y]:\n",
    "                    candidates[i-1] = scores[i-1] * probs[i, o] * (1 / len(grid.moves[x][y]))\n",
    "            if i+1 >=0 and i+1 < n*m:\n",
    "                x, y = grid._get_indeces(i+1)\n",
    "                if 'L' in grid.moves[x][y]:\n",
    "                    candidates[i+1] = scores[i+1] * probs[i, o] * (1 / len(grid.moves[x][y]))\n",
    "            if i-m >=0 and i-m < n*m:\n",
    "                x, y = grid._get_indeces(i-m)\n",
    "                if 'D' in grid.moves[x][y]:\n",
    "                    candidates[i-m] = scores[i-m] * probs[i, o] * (1 / len(grid.moves[x][y]))\n",
    "            if i+m >=0 and i+m < n*m:\n",
    "                x, y = grid._get_indeces(i+m)\n",
    "                if 'U' in grid.moves[x][y]:\n",
    "                    candidates[i+m] = scores[i+m] * probs[i, o] * (1 / len(grid.moves[x][y]))\n",
    "            max_val = -np.inf\n",
    "            max_key = None\n",
    "            for key in candidates.keys():\n",
    "                if max_val < candidates[key]:\n",
    "                    max_key = key\n",
    "                    max_val = candidates[key]\n",
    "            new_scores[i] = max_val\n",
    "            for j in paths[max_key]:\n",
    "                new_paths[i].append(j)\n",
    "            new_paths[i].append(max_key)\n",
    "\n",
    "        scores = np.copy(new_scores)\n",
    "        paths = new_paths\n",
    "    last_place = np.argmax(scores)\n",
    "    best_path = paths[np.argmax(scores)]\n",
    "    best_path.append(last_place)\n",
    "    return best_path"
   ]
  },
  {
   "cell_type": "code",
   "execution_count": 8,
   "metadata": {},
   "outputs": [
    {
     "name": "stdout",
     "output_type": "stream",
     "text": [
      "VITERBI PASSED!\n"
     ]
    }
   ],
   "source": [
    "from Assets.helpers import viterbi_checker\n",
    "viterbi_checker(viterbi)"
   ]
  }
 ],
 "metadata": {
  "kernelspec": {
   "display_name": "Python 3",
   "language": "python",
   "name": "python3"
  },
  "language_info": {
   "codemirror_mode": {
    "name": "ipython",
    "version": 3
   },
   "file_extension": ".py",
   "mimetype": "text/x-python",
   "name": "python",
   "nbconvert_exporter": "python",
   "pygments_lexer": "ipython3",
   "version": "3.10.12"
  },
  "orig_nbformat": 4
 },
 "nbformat": 4,
 "nbformat_minor": 2
}
