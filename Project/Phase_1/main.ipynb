{
  "cells": [
    {
      "cell_type": "markdown",
      "metadata": {},
      "source": [
        "# Map Matching Project - Phase 1\n",
        "<div style=\"text-align: center\">\n",
        "<h1 style = \"color: red\"> Sharif University Of Technology</h1>\n",
        "<h2 style = \"color: green\"> DR. Mahdieh Soleymani | DR. MohammadHossein Rohban </h2>\n",
        "<h3 style = \"color: cyan\"> Head of Project: AmirHossein Razlighi <h3>\n",
        "<h3 style = \"color: cyan\"> Designed By: AmirHossein Razlighi - Hamidreza Yaghoubi - Alireza Heidari - Reza Vahidi Majd - Parham Rezaei<h3>\n",
        "<h3 style = \"color: cyan\"> Documents Designed by: Mohammad Moshtaghi Far<h3>\n",
        "<h4 style = \"color: white\"> Ask your questions via quera</h4>\n",
        "<h5> Save your file with format: STUDENT NUMBER_Phase1.ipynb or .zip </h5>\n",
        "</div>"
      ]
    },
    {
      "cell_type": "markdown",
      "metadata": {
        "id": "NwJh3NuumTZT"
      },
      "source": [
        "Setting up the environment"
      ]
    },
    {
      "cell_type": "code",
      "execution_count": 38,
      "metadata": {
        "colab": {
          "base_uri": "https://localhost:8080/"
        },
        "id": "JTKl9O5glmbP",
        "outputId": "e0087573-d26c-4f57-9616-e4a98b4605fd"
      },
      "outputs": [
        {
          "name": "stdout",
          "output_type": "stream",
          "text": [
            "Requirement already satisfied: pyrosm in /Users/sina/miniforge3/envs/ai/lib/python3.10/site-packages (0.6.2)\n",
            "Requirement already satisfied: keplergl in /Users/sina/miniforge3/envs/ai/lib/python3.10/site-packages (0.3.2)\n",
            "Requirement already satisfied: haversine in /Users/sina/miniforge3/envs/ai/lib/python3.10/site-packages (2.8.0)\n",
            "Requirement already satisfied: pandas in /Users/sina/miniforge3/envs/ai/lib/python3.10/site-packages (2.1.4)\n",
            "Requirement already satisfied: numpy in /Users/sina/miniforge3/envs/ai/lib/python3.10/site-packages (1.26.0)\n",
            "Requirement already satisfied: python-rapidjson in /Users/sina/miniforge3/envs/ai/lib/python3.10/site-packages (from pyrosm) (1.14)\n",
            "Requirement already satisfied: setuptools>=18.0 in /Users/sina/miniforge3/envs/ai/lib/python3.10/site-packages (from pyrosm) (68.2.2)\n",
            "Requirement already satisfied: geopandas>=0.12.0 in /Users/sina/miniforge3/envs/ai/lib/python3.10/site-packages (from pyrosm) (0.14.1)\n",
            "Requirement already satisfied: shapely>=2.0.1 in /Users/sina/miniforge3/envs/ai/lib/python3.10/site-packages (from pyrosm) (2.0.2)\n",
            "Requirement already satisfied: cykhash in /Users/sina/miniforge3/envs/ai/lib/python3.10/site-packages (from pyrosm) (2.0.1)\n",
            "Requirement already satisfied: pyrobuf in /Users/sina/miniforge3/envs/ai/lib/python3.10/site-packages (from pyrosm) (0.9.3)\n",
            "Requirement already satisfied: ipywidgets<8,>=7.0.0 in /Users/sina/miniforge3/envs/ai/lib/python3.10/site-packages (from keplergl) (7.8.1)\n",
            "Requirement already satisfied: traittypes>=0.2.1 in /Users/sina/miniforge3/envs/ai/lib/python3.10/site-packages (from keplergl) (0.2.1)\n",
            "Requirement already satisfied: python-dateutil>=2.8.2 in /Users/sina/miniforge3/envs/ai/lib/python3.10/site-packages (from pandas) (2.8.2)\n",
            "Requirement already satisfied: pytz>=2020.1 in /Users/sina/miniforge3/envs/ai/lib/python3.10/site-packages (from pandas) (2023.3.post1)\n",
            "Requirement already satisfied: tzdata>=2022.1 in /Users/sina/miniforge3/envs/ai/lib/python3.10/site-packages (from pandas) (2023.3)\n",
            "Requirement already satisfied: fiona>=1.8.21 in /Users/sina/miniforge3/envs/ai/lib/python3.10/site-packages (from geopandas>=0.12.0->pyrosm) (1.9.5)\n",
            "Requirement already satisfied: packaging in /Users/sina/miniforge3/envs/ai/lib/python3.10/site-packages (from geopandas>=0.12.0->pyrosm) (23.2)\n",
            "Requirement already satisfied: pyproj>=3.3.0 in /Users/sina/miniforge3/envs/ai/lib/python3.10/site-packages (from geopandas>=0.12.0->pyrosm) (3.6.1)\n",
            "Requirement already satisfied: comm>=0.1.3 in /Users/sina/miniforge3/envs/ai/lib/python3.10/site-packages (from ipywidgets<8,>=7.0.0->keplergl) (0.1.4)\n",
            "Requirement already satisfied: ipython-genutils~=0.2.0 in /Users/sina/miniforge3/envs/ai/lib/python3.10/site-packages (from ipywidgets<8,>=7.0.0->keplergl) (0.2.0)\n",
            "Requirement already satisfied: traitlets>=4.3.1 in /Users/sina/miniforge3/envs/ai/lib/python3.10/site-packages (from ipywidgets<8,>=7.0.0->keplergl) (5.11.2)\n",
            "Requirement already satisfied: widgetsnbextension~=3.6.6 in /Users/sina/miniforge3/envs/ai/lib/python3.10/site-packages (from ipywidgets<8,>=7.0.0->keplergl) (3.6.6)\n",
            "Requirement already satisfied: ipython>=4.0.0 in /Users/sina/miniforge3/envs/ai/lib/python3.10/site-packages (from ipywidgets<8,>=7.0.0->keplergl) (8.16.1)\n",
            "Requirement already satisfied: jupyterlab-widgets<3,>=1.0.0 in /Users/sina/miniforge3/envs/ai/lib/python3.10/site-packages (from ipywidgets<8,>=7.0.0->keplergl) (1.1.7)\n",
            "Requirement already satisfied: six>=1.5 in /Users/sina/miniforge3/envs/ai/lib/python3.10/site-packages (from python-dateutil>=2.8.2->pandas) (1.16.0)\n",
            "Requirement already satisfied: jinja2>=2.8 in /Users/sina/miniforge3/envs/ai/lib/python3.10/site-packages (from pyrobuf->pyrosm) (3.1.2)\n",
            "Requirement already satisfied: cython>=0.23 in /Users/sina/miniforge3/envs/ai/lib/python3.10/site-packages (from pyrobuf->pyrosm) (3.0.7)\n",
            "Requirement already satisfied: attrs>=19.2.0 in /Users/sina/miniforge3/envs/ai/lib/python3.10/site-packages (from fiona>=1.8.21->geopandas>=0.12.0->pyrosm) (23.1.0)\n",
            "Requirement already satisfied: certifi in /Users/sina/miniforge3/envs/ai/lib/python3.10/site-packages (from fiona>=1.8.21->geopandas>=0.12.0->pyrosm) (2023.11.17)\n",
            "Requirement already satisfied: click~=8.0 in /Users/sina/miniforge3/envs/ai/lib/python3.10/site-packages (from fiona>=1.8.21->geopandas>=0.12.0->pyrosm) (8.1.7)\n",
            "Requirement already satisfied: click-plugins>=1.0 in /Users/sina/miniforge3/envs/ai/lib/python3.10/site-packages (from fiona>=1.8.21->geopandas>=0.12.0->pyrosm) (1.1.1)\n",
            "Requirement already satisfied: cligj>=0.5 in /Users/sina/miniforge3/envs/ai/lib/python3.10/site-packages (from fiona>=1.8.21->geopandas>=0.12.0->pyrosm) (0.7.2)\n",
            "Requirement already satisfied: backcall in /Users/sina/miniforge3/envs/ai/lib/python3.10/site-packages (from ipython>=4.0.0->ipywidgets<8,>=7.0.0->keplergl) (0.2.0)\n",
            "Requirement already satisfied: decorator in /Users/sina/miniforge3/envs/ai/lib/python3.10/site-packages (from ipython>=4.0.0->ipywidgets<8,>=7.0.0->keplergl) (5.1.1)\n",
            "Requirement already satisfied: jedi>=0.16 in /Users/sina/miniforge3/envs/ai/lib/python3.10/site-packages (from ipython>=4.0.0->ipywidgets<8,>=7.0.0->keplergl) (0.19.1)\n",
            "Requirement already satisfied: matplotlib-inline in /Users/sina/miniforge3/envs/ai/lib/python3.10/site-packages (from ipython>=4.0.0->ipywidgets<8,>=7.0.0->keplergl) (0.1.6)\n",
            "Requirement already satisfied: pickleshare in /Users/sina/miniforge3/envs/ai/lib/python3.10/site-packages (from ipython>=4.0.0->ipywidgets<8,>=7.0.0->keplergl) (0.7.5)\n",
            "Requirement already satisfied: prompt-toolkit!=3.0.37,<3.1.0,>=3.0.30 in /Users/sina/miniforge3/envs/ai/lib/python3.10/site-packages (from ipython>=4.0.0->ipywidgets<8,>=7.0.0->keplergl) (3.0.39)\n",
            "Requirement already satisfied: pygments>=2.4.0 in /Users/sina/miniforge3/envs/ai/lib/python3.10/site-packages (from ipython>=4.0.0->ipywidgets<8,>=7.0.0->keplergl) (2.16.1)\n",
            "Requirement already satisfied: stack-data in /Users/sina/miniforge3/envs/ai/lib/python3.10/site-packages (from ipython>=4.0.0->ipywidgets<8,>=7.0.0->keplergl) (0.6.2)\n",
            "Requirement already satisfied: exceptiongroup in /Users/sina/miniforge3/envs/ai/lib/python3.10/site-packages (from ipython>=4.0.0->ipywidgets<8,>=7.0.0->keplergl) (1.1.3)\n",
            "Requirement already satisfied: pexpect>4.3 in /Users/sina/miniforge3/envs/ai/lib/python3.10/site-packages (from ipython>=4.0.0->ipywidgets<8,>=7.0.0->keplergl) (4.8.0)\n",
            "Requirement already satisfied: appnope in /Users/sina/miniforge3/envs/ai/lib/python3.10/site-packages (from ipython>=4.0.0->ipywidgets<8,>=7.0.0->keplergl) (0.1.3)\n",
            "Requirement already satisfied: MarkupSafe>=2.0 in /Users/sina/miniforge3/envs/ai/lib/python3.10/site-packages (from jinja2>=2.8->pyrobuf->pyrosm) (2.1.3)\n",
            "Requirement already satisfied: notebook>=4.4.1 in /Users/sina/miniforge3/envs/ai/lib/python3.10/site-packages (from widgetsnbextension~=3.6.6->ipywidgets<8,>=7.0.0->keplergl) (7.0.6)\n",
            "Requirement already satisfied: parso<0.9.0,>=0.8.3 in /Users/sina/miniforge3/envs/ai/lib/python3.10/site-packages (from jedi>=0.16->ipython>=4.0.0->ipywidgets<8,>=7.0.0->keplergl) (0.8.3)\n",
            "Requirement already satisfied: jupyter-server<3,>=2.4.0 in /Users/sina/miniforge3/envs/ai/lib/python3.10/site-packages (from notebook>=4.4.1->widgetsnbextension~=3.6.6->ipywidgets<8,>=7.0.0->keplergl) (2.12.1)\n",
            "Requirement already satisfied: jupyterlab-server<3,>=2.22.1 in /Users/sina/miniforge3/envs/ai/lib/python3.10/site-packages (from notebook>=4.4.1->widgetsnbextension~=3.6.6->ipywidgets<8,>=7.0.0->keplergl) (2.25.2)\n",
            "Requirement already satisfied: jupyterlab<5,>=4.0.2 in /Users/sina/miniforge3/envs/ai/lib/python3.10/site-packages (from notebook>=4.4.1->widgetsnbextension~=3.6.6->ipywidgets<8,>=7.0.0->keplergl) (4.0.9)\n",
            "Requirement already satisfied: notebook-shim<0.3,>=0.2 in /Users/sina/miniforge3/envs/ai/lib/python3.10/site-packages (from notebook>=4.4.1->widgetsnbextension~=3.6.6->ipywidgets<8,>=7.0.0->keplergl) (0.2.3)\n",
            "Requirement already satisfied: tornado>=6.2.0 in /Users/sina/miniforge3/envs/ai/lib/python3.10/site-packages (from notebook>=4.4.1->widgetsnbextension~=3.6.6->ipywidgets<8,>=7.0.0->keplergl) (6.3.3)\n",
            "Requirement already satisfied: ptyprocess>=0.5 in /Users/sina/miniforge3/envs/ai/lib/python3.10/site-packages (from pexpect>4.3->ipython>=4.0.0->ipywidgets<8,>=7.0.0->keplergl) (0.7.0)\n",
            "Requirement already satisfied: wcwidth in /Users/sina/miniforge3/envs/ai/lib/python3.10/site-packages (from prompt-toolkit!=3.0.37,<3.1.0,>=3.0.30->ipython>=4.0.0->ipywidgets<8,>=7.0.0->keplergl) (0.2.8)\n",
            "Requirement already satisfied: executing>=1.2.0 in /Users/sina/miniforge3/envs/ai/lib/python3.10/site-packages (from stack-data->ipython>=4.0.0->ipywidgets<8,>=7.0.0->keplergl) (1.2.0)\n",
            "Requirement already satisfied: asttokens>=2.1.0 in /Users/sina/miniforge3/envs/ai/lib/python3.10/site-packages (from stack-data->ipython>=4.0.0->ipywidgets<8,>=7.0.0->keplergl) (2.4.0)\n",
            "Requirement already satisfied: pure-eval in /Users/sina/miniforge3/envs/ai/lib/python3.10/site-packages (from stack-data->ipython>=4.0.0->ipywidgets<8,>=7.0.0->keplergl) (0.2.2)\n",
            "Requirement already satisfied: anyio>=3.1.0 in /Users/sina/miniforge3/envs/ai/lib/python3.10/site-packages (from jupyter-server<3,>=2.4.0->notebook>=4.4.1->widgetsnbextension~=3.6.6->ipywidgets<8,>=7.0.0->keplergl) (4.2.0)\n",
            "Requirement already satisfied: argon2-cffi in /Users/sina/miniforge3/envs/ai/lib/python3.10/site-packages (from jupyter-server<3,>=2.4.0->notebook>=4.4.1->widgetsnbextension~=3.6.6->ipywidgets<8,>=7.0.0->keplergl) (23.1.0)\n",
            "Requirement already satisfied: jupyter-client>=7.4.4 in /Users/sina/miniforge3/envs/ai/lib/python3.10/site-packages (from jupyter-server<3,>=2.4.0->notebook>=4.4.1->widgetsnbextension~=3.6.6->ipywidgets<8,>=7.0.0->keplergl) (8.4.0)\n",
            "Requirement already satisfied: jupyter-core!=5.0.*,>=4.12 in /Users/sina/miniforge3/envs/ai/lib/python3.10/site-packages (from jupyter-server<3,>=2.4.0->notebook>=4.4.1->widgetsnbextension~=3.6.6->ipywidgets<8,>=7.0.0->keplergl) (5.4.0)\n",
            "Requirement already satisfied: jupyter-events>=0.9.0 in /Users/sina/miniforge3/envs/ai/lib/python3.10/site-packages (from jupyter-server<3,>=2.4.0->notebook>=4.4.1->widgetsnbextension~=3.6.6->ipywidgets<8,>=7.0.0->keplergl) (0.9.0)\n",
            "Requirement already satisfied: jupyter-server-terminals in /Users/sina/miniforge3/envs/ai/lib/python3.10/site-packages (from jupyter-server<3,>=2.4.0->notebook>=4.4.1->widgetsnbextension~=3.6.6->ipywidgets<8,>=7.0.0->keplergl) (0.5.1)\n",
            "Requirement already satisfied: nbconvert>=6.4.4 in /Users/sina/miniforge3/envs/ai/lib/python3.10/site-packages (from jupyter-server<3,>=2.4.0->notebook>=4.4.1->widgetsnbextension~=3.6.6->ipywidgets<8,>=7.0.0->keplergl) (7.13.1)\n",
            "Requirement already satisfied: nbformat>=5.3.0 in /Users/sina/miniforge3/envs/ai/lib/python3.10/site-packages (from jupyter-server<3,>=2.4.0->notebook>=4.4.1->widgetsnbextension~=3.6.6->ipywidgets<8,>=7.0.0->keplergl) (5.9.2)\n",
            "Requirement already satisfied: overrides in /Users/sina/miniforge3/envs/ai/lib/python3.10/site-packages (from jupyter-server<3,>=2.4.0->notebook>=4.4.1->widgetsnbextension~=3.6.6->ipywidgets<8,>=7.0.0->keplergl) (7.4.0)\n",
            "Requirement already satisfied: prometheus-client in /Users/sina/miniforge3/envs/ai/lib/python3.10/site-packages (from jupyter-server<3,>=2.4.0->notebook>=4.4.1->widgetsnbextension~=3.6.6->ipywidgets<8,>=7.0.0->keplergl) (0.19.0)\n",
            "Requirement already satisfied: pyzmq>=24 in /Users/sina/miniforge3/envs/ai/lib/python3.10/site-packages (from jupyter-server<3,>=2.4.0->notebook>=4.4.1->widgetsnbextension~=3.6.6->ipywidgets<8,>=7.0.0->keplergl) (25.1.1)\n",
            "Requirement already satisfied: send2trash>=1.8.2 in /Users/sina/miniforge3/envs/ai/lib/python3.10/site-packages (from jupyter-server<3,>=2.4.0->notebook>=4.4.1->widgetsnbextension~=3.6.6->ipywidgets<8,>=7.0.0->keplergl) (1.8.2)\n",
            "Requirement already satisfied: terminado>=0.8.3 in /Users/sina/miniforge3/envs/ai/lib/python3.10/site-packages (from jupyter-server<3,>=2.4.0->notebook>=4.4.1->widgetsnbextension~=3.6.6->ipywidgets<8,>=7.0.0->keplergl) (0.18.0)\n",
            "Requirement already satisfied: websocket-client in /Users/sina/miniforge3/envs/ai/lib/python3.10/site-packages (from jupyter-server<3,>=2.4.0->notebook>=4.4.1->widgetsnbextension~=3.6.6->ipywidgets<8,>=7.0.0->keplergl) (1.7.0)\n",
            "Requirement already satisfied: async-lru>=1.0.0 in /Users/sina/miniforge3/envs/ai/lib/python3.10/site-packages (from jupyterlab<5,>=4.0.2->notebook>=4.4.1->widgetsnbextension~=3.6.6->ipywidgets<8,>=7.0.0->keplergl) (2.0.4)\n",
            "Requirement already satisfied: ipykernel in /Users/sina/miniforge3/envs/ai/lib/python3.10/site-packages (from jupyterlab<5,>=4.0.2->notebook>=4.4.1->widgetsnbextension~=3.6.6->ipywidgets<8,>=7.0.0->keplergl) (6.25.2)\n",
            "Requirement already satisfied: jupyter-lsp>=2.0.0 in /Users/sina/miniforge3/envs/ai/lib/python3.10/site-packages (from jupyterlab<5,>=4.0.2->notebook>=4.4.1->widgetsnbextension~=3.6.6->ipywidgets<8,>=7.0.0->keplergl) (2.2.1)\n",
            "Requirement already satisfied: tomli in /Users/sina/miniforge3/envs/ai/lib/python3.10/site-packages (from jupyterlab<5,>=4.0.2->notebook>=4.4.1->widgetsnbextension~=3.6.6->ipywidgets<8,>=7.0.0->keplergl) (2.0.1)\n",
            "Requirement already satisfied: babel>=2.10 in /Users/sina/miniforge3/envs/ai/lib/python3.10/site-packages (from jupyterlab-server<3,>=2.22.1->notebook>=4.4.1->widgetsnbextension~=3.6.6->ipywidgets<8,>=7.0.0->keplergl) (2.14.0)\n",
            "Requirement already satisfied: json5>=0.9.0 in /Users/sina/miniforge3/envs/ai/lib/python3.10/site-packages (from jupyterlab-server<3,>=2.22.1->notebook>=4.4.1->widgetsnbextension~=3.6.6->ipywidgets<8,>=7.0.0->keplergl) (0.9.14)\n",
            "Requirement already satisfied: jsonschema>=4.18.0 in /Users/sina/miniforge3/envs/ai/lib/python3.10/site-packages (from jupyterlab-server<3,>=2.22.1->notebook>=4.4.1->widgetsnbextension~=3.6.6->ipywidgets<8,>=7.0.0->keplergl) (4.20.0)\n",
            "Requirement already satisfied: requests>=2.31 in /Users/sina/miniforge3/envs/ai/lib/python3.10/site-packages (from jupyterlab-server<3,>=2.22.1->notebook>=4.4.1->widgetsnbextension~=3.6.6->ipywidgets<8,>=7.0.0->keplergl) (2.31.0)\n",
            "Requirement already satisfied: idna>=2.8 in /Users/sina/miniforge3/envs/ai/lib/python3.10/site-packages (from anyio>=3.1.0->jupyter-server<3,>=2.4.0->notebook>=4.4.1->widgetsnbextension~=3.6.6->ipywidgets<8,>=7.0.0->keplergl) (3.6)\n",
            "Requirement already satisfied: sniffio>=1.1 in /Users/sina/miniforge3/envs/ai/lib/python3.10/site-packages (from anyio>=3.1.0->jupyter-server<3,>=2.4.0->notebook>=4.4.1->widgetsnbextension~=3.6.6->ipywidgets<8,>=7.0.0->keplergl) (1.3.0)\n",
            "Requirement already satisfied: typing-extensions>=4.1 in /Users/sina/miniforge3/envs/ai/lib/python3.10/site-packages (from anyio>=3.1.0->jupyter-server<3,>=2.4.0->notebook>=4.4.1->widgetsnbextension~=3.6.6->ipywidgets<8,>=7.0.0->keplergl) (4.8.0)\n",
            "Requirement already satisfied: jsonschema-specifications>=2023.03.6 in /Users/sina/miniforge3/envs/ai/lib/python3.10/site-packages (from jsonschema>=4.18.0->jupyterlab-server<3,>=2.22.1->notebook>=4.4.1->widgetsnbextension~=3.6.6->ipywidgets<8,>=7.0.0->keplergl) (2023.12.1)\n",
            "Requirement already satisfied: referencing>=0.28.4 in /Users/sina/miniforge3/envs/ai/lib/python3.10/site-packages (from jsonschema>=4.18.0->jupyterlab-server<3,>=2.22.1->notebook>=4.4.1->widgetsnbextension~=3.6.6->ipywidgets<8,>=7.0.0->keplergl) (0.32.0)\n",
            "Requirement already satisfied: rpds-py>=0.7.1 in /Users/sina/miniforge3/envs/ai/lib/python3.10/site-packages (from jsonschema>=4.18.0->jupyterlab-server<3,>=2.22.1->notebook>=4.4.1->widgetsnbextension~=3.6.6->ipywidgets<8,>=7.0.0->keplergl) (0.16.2)\n",
            "Requirement already satisfied: platformdirs>=2.5 in /Users/sina/miniforge3/envs/ai/lib/python3.10/site-packages (from jupyter-core!=5.0.*,>=4.12->jupyter-server<3,>=2.4.0->notebook>=4.4.1->widgetsnbextension~=3.6.6->ipywidgets<8,>=7.0.0->keplergl) (3.11.0)\n",
            "Requirement already satisfied: python-json-logger>=2.0.4 in /Users/sina/miniforge3/envs/ai/lib/python3.10/site-packages (from jupyter-events>=0.9.0->jupyter-server<3,>=2.4.0->notebook>=4.4.1->widgetsnbextension~=3.6.6->ipywidgets<8,>=7.0.0->keplergl) (2.0.7)\n",
            "Requirement already satisfied: pyyaml>=5.3 in /Users/sina/miniforge3/envs/ai/lib/python3.10/site-packages (from jupyter-events>=0.9.0->jupyter-server<3,>=2.4.0->notebook>=4.4.1->widgetsnbextension~=3.6.6->ipywidgets<8,>=7.0.0->keplergl) (6.0.1)\n",
            "Requirement already satisfied: rfc3339-validator in /Users/sina/miniforge3/envs/ai/lib/python3.10/site-packages (from jupyter-events>=0.9.0->jupyter-server<3,>=2.4.0->notebook>=4.4.1->widgetsnbextension~=3.6.6->ipywidgets<8,>=7.0.0->keplergl) (0.1.4)\n",
            "Requirement already satisfied: rfc3986-validator>=0.1.1 in /Users/sina/miniforge3/envs/ai/lib/python3.10/site-packages (from jupyter-events>=0.9.0->jupyter-server<3,>=2.4.0->notebook>=4.4.1->widgetsnbextension~=3.6.6->ipywidgets<8,>=7.0.0->keplergl) (0.1.1)\n",
            "Requirement already satisfied: beautifulsoup4 in /Users/sina/miniforge3/envs/ai/lib/python3.10/site-packages (from nbconvert>=6.4.4->jupyter-server<3,>=2.4.0->notebook>=4.4.1->widgetsnbextension~=3.6.6->ipywidgets<8,>=7.0.0->keplergl) (4.12.2)\n",
            "Requirement already satisfied: bleach!=5.0.0 in /Users/sina/miniforge3/envs/ai/lib/python3.10/site-packages (from nbconvert>=6.4.4->jupyter-server<3,>=2.4.0->notebook>=4.4.1->widgetsnbextension~=3.6.6->ipywidgets<8,>=7.0.0->keplergl) (6.1.0)\n",
            "Requirement already satisfied: defusedxml in /Users/sina/miniforge3/envs/ai/lib/python3.10/site-packages (from nbconvert>=6.4.4->jupyter-server<3,>=2.4.0->notebook>=4.4.1->widgetsnbextension~=3.6.6->ipywidgets<8,>=7.0.0->keplergl) (0.7.1)\n",
            "Requirement already satisfied: jupyterlab-pygments in /Users/sina/miniforge3/envs/ai/lib/python3.10/site-packages (from nbconvert>=6.4.4->jupyter-server<3,>=2.4.0->notebook>=4.4.1->widgetsnbextension~=3.6.6->ipywidgets<8,>=7.0.0->keplergl) (0.3.0)\n",
            "Requirement already satisfied: mistune<4,>=2.0.3 in /Users/sina/miniforge3/envs/ai/lib/python3.10/site-packages (from nbconvert>=6.4.4->jupyter-server<3,>=2.4.0->notebook>=4.4.1->widgetsnbextension~=3.6.6->ipywidgets<8,>=7.0.0->keplergl) (3.0.2)\n",
            "Requirement already satisfied: nbclient>=0.5.0 in /Users/sina/miniforge3/envs/ai/lib/python3.10/site-packages (from nbconvert>=6.4.4->jupyter-server<3,>=2.4.0->notebook>=4.4.1->widgetsnbextension~=3.6.6->ipywidgets<8,>=7.0.0->keplergl) (0.9.0)\n",
            "Requirement already satisfied: pandocfilters>=1.4.1 in /Users/sina/miniforge3/envs/ai/lib/python3.10/site-packages (from nbconvert>=6.4.4->jupyter-server<3,>=2.4.0->notebook>=4.4.1->widgetsnbextension~=3.6.6->ipywidgets<8,>=7.0.0->keplergl) (1.5.0)\n",
            "Requirement already satisfied: tinycss2 in /Users/sina/miniforge3/envs/ai/lib/python3.10/site-packages (from nbconvert>=6.4.4->jupyter-server<3,>=2.4.0->notebook>=4.4.1->widgetsnbextension~=3.6.6->ipywidgets<8,>=7.0.0->keplergl) (1.2.1)\n",
            "Requirement already satisfied: fastjsonschema in /Users/sina/miniforge3/envs/ai/lib/python3.10/site-packages (from nbformat>=5.3.0->jupyter-server<3,>=2.4.0->notebook>=4.4.1->widgetsnbextension~=3.6.6->ipywidgets<8,>=7.0.0->keplergl) (2.19.1)\n",
            "Requirement already satisfied: charset-normalizer<4,>=2 in /Users/sina/miniforge3/envs/ai/lib/python3.10/site-packages (from requests>=2.31->jupyterlab-server<3,>=2.22.1->notebook>=4.4.1->widgetsnbextension~=3.6.6->ipywidgets<8,>=7.0.0->keplergl) (3.3.2)\n",
            "Requirement already satisfied: urllib3<3,>=1.21.1 in /Users/sina/miniforge3/envs/ai/lib/python3.10/site-packages (from requests>=2.31->jupyterlab-server<3,>=2.22.1->notebook>=4.4.1->widgetsnbextension~=3.6.6->ipywidgets<8,>=7.0.0->keplergl) (1.26.18)\n",
            "Requirement already satisfied: argon2-cffi-bindings in /Users/sina/miniforge3/envs/ai/lib/python3.10/site-packages (from argon2-cffi->jupyter-server<3,>=2.4.0->notebook>=4.4.1->widgetsnbextension~=3.6.6->ipywidgets<8,>=7.0.0->keplergl) (21.2.0)\n",
            "Requirement already satisfied: debugpy>=1.6.5 in /Users/sina/miniforge3/envs/ai/lib/python3.10/site-packages (from ipykernel->jupyterlab<5,>=4.0.2->notebook>=4.4.1->widgetsnbextension~=3.6.6->ipywidgets<8,>=7.0.0->keplergl) (1.8.0)\n",
            "Requirement already satisfied: nest-asyncio in /Users/sina/miniforge3/envs/ai/lib/python3.10/site-packages (from ipykernel->jupyterlab<5,>=4.0.2->notebook>=4.4.1->widgetsnbextension~=3.6.6->ipywidgets<8,>=7.0.0->keplergl) (1.5.8)\n",
            "Requirement already satisfied: psutil in /Users/sina/miniforge3/envs/ai/lib/python3.10/site-packages (from ipykernel->jupyterlab<5,>=4.0.2->notebook>=4.4.1->widgetsnbextension~=3.6.6->ipywidgets<8,>=7.0.0->keplergl) (5.9.5)\n",
            "Requirement already satisfied: webencodings in /Users/sina/miniforge3/envs/ai/lib/python3.10/site-packages (from bleach!=5.0.0->nbconvert>=6.4.4->jupyter-server<3,>=2.4.0->notebook>=4.4.1->widgetsnbextension~=3.6.6->ipywidgets<8,>=7.0.0->keplergl) (0.5.1)\n",
            "Requirement already satisfied: fqdn in /Users/sina/miniforge3/envs/ai/lib/python3.10/site-packages (from jsonschema>=4.18.0->jupyterlab-server<3,>=2.22.1->notebook>=4.4.1->widgetsnbextension~=3.6.6->ipywidgets<8,>=7.0.0->keplergl) (1.5.1)\n",
            "Requirement already satisfied: isoduration in /Users/sina/miniforge3/envs/ai/lib/python3.10/site-packages (from jsonschema>=4.18.0->jupyterlab-server<3,>=2.22.1->notebook>=4.4.1->widgetsnbextension~=3.6.6->ipywidgets<8,>=7.0.0->keplergl) (20.11.0)\n",
            "Requirement already satisfied: jsonpointer>1.13 in /Users/sina/miniforge3/envs/ai/lib/python3.10/site-packages (from jsonschema>=4.18.0->jupyterlab-server<3,>=2.22.1->notebook>=4.4.1->widgetsnbextension~=3.6.6->ipywidgets<8,>=7.0.0->keplergl) (2.4)\n",
            "Requirement already satisfied: uri-template in /Users/sina/miniforge3/envs/ai/lib/python3.10/site-packages (from jsonschema>=4.18.0->jupyterlab-server<3,>=2.22.1->notebook>=4.4.1->widgetsnbextension~=3.6.6->ipywidgets<8,>=7.0.0->keplergl) (1.3.0)\n",
            "Requirement already satisfied: webcolors>=1.11 in /Users/sina/miniforge3/envs/ai/lib/python3.10/site-packages (from jsonschema>=4.18.0->jupyterlab-server<3,>=2.22.1->notebook>=4.4.1->widgetsnbextension~=3.6.6->ipywidgets<8,>=7.0.0->keplergl) (1.13)\n",
            "Requirement already satisfied: cffi>=1.0.1 in /Users/sina/miniforge3/envs/ai/lib/python3.10/site-packages (from argon2-cffi-bindings->argon2-cffi->jupyter-server<3,>=2.4.0->notebook>=4.4.1->widgetsnbextension~=3.6.6->ipywidgets<8,>=7.0.0->keplergl) (1.16.0)\n",
            "Requirement already satisfied: soupsieve>1.2 in /Users/sina/miniforge3/envs/ai/lib/python3.10/site-packages (from beautifulsoup4->nbconvert>=6.4.4->jupyter-server<3,>=2.4.0->notebook>=4.4.1->widgetsnbextension~=3.6.6->ipywidgets<8,>=7.0.0->keplergl) (2.5)\n",
            "Requirement already satisfied: pycparser in /Users/sina/miniforge3/envs/ai/lib/python3.10/site-packages (from cffi>=1.0.1->argon2-cffi-bindings->argon2-cffi->jupyter-server<3,>=2.4.0->notebook>=4.4.1->widgetsnbextension~=3.6.6->ipywidgets<8,>=7.0.0->keplergl) (2.21)\n",
            "Requirement already satisfied: arrow>=0.15.0 in /Users/sina/miniforge3/envs/ai/lib/python3.10/site-packages (from isoduration->jsonschema>=4.18.0->jupyterlab-server<3,>=2.22.1->notebook>=4.4.1->widgetsnbextension~=3.6.6->ipywidgets<8,>=7.0.0->keplergl) (1.3.0)\n",
            "Requirement already satisfied: types-python-dateutil>=2.8.10 in /Users/sina/miniforge3/envs/ai/lib/python3.10/site-packages (from arrow>=0.15.0->isoduration->jsonschema>=4.18.0->jupyterlab-server<3,>=2.22.1->notebook>=4.4.1->widgetsnbextension~=3.6.6->ipywidgets<8,>=7.0.0->keplergl) (2.8.19.14)\n",
            "Note: you may need to restart the kernel to use updated packages.\n"
          ]
        }
      ],
      "source": [
        "%pip install pyrosm keplergl haversine pandas numpy"
      ]
    },
    {
      "cell_type": "code",
      "execution_count": 39,
      "metadata": {
        "id": "SbtVTMtTlmbQ"
      },
      "outputs": [],
      "source": [
        "import datetime\n",
        "import numpy as np\n",
        "import pandas as pd\n",
        "import pyrosm\n",
        "import random\n",
        "import ssl\n",
        "import time\n",
        "\n",
        "from keplergl import KeplerGl\n",
        "from pyrosm import OSM, get_data"
      ]
    },
    {
      "cell_type": "code",
      "execution_count": 40,
      "metadata": {},
      "outputs": [],
      "source": [
        "# Map Configurations:\n",
        "config_1 = {'version': 'v1',\n",
        " 'config': {'visState': {'filters': [],\n",
        "   'layers': [{'id': '95m4t7j',\n",
        "     'type': 'point',\n",
        "     'config': {'dataId': 'streets',\n",
        "      'label': 'nodes2',\n",
        "      'color': [77, 193, 156],\n",
        "      'highlightColor': [252, 242, 26, 255],\n",
        "      'columns': {'lat': 'v_lat', 'lng': 'v_lon', 'altitude': None},\n",
        "      'isVisible': True,\n",
        "      'visConfig': {'radius': 10,\n",
        "       'fixedRadius': False,\n",
        "       'opacity': 0.8,\n",
        "       'outline': False,\n",
        "       'thickness': 2,\n",
        "       'strokeColor': None,\n",
        "       'colorRange': {'name': 'Global Warming',\n",
        "        'type': 'sequential',\n",
        "        'category': 'Uber',\n",
        "        'colors': ['#5A1846',\n",
        "         '#900C3F',\n",
        "         '#C70039',\n",
        "         '#E3611C',\n",
        "         '#F1920E',\n",
        "         '#FFC300']},\n",
        "       'strokeColorRange': {'name': 'Global Warming',\n",
        "        'type': 'sequential',\n",
        "        'category': 'Uber',\n",
        "        'colors': ['#5A1846',\n",
        "         '#900C3F',\n",
        "         '#C70039',\n",
        "         '#E3611C',\n",
        "         '#F1920E',\n",
        "         '#FFC300']},\n",
        "       'radiusRange': [0, 50],\n",
        "       'filled': True},\n",
        "      'hidden': False,\n",
        "      'textLabel': [{'field': None,\n",
        "        'color': [255, 255, 255],\n",
        "        'size': 18,\n",
        "        'offset': [0, 0],\n",
        "        'anchor': 'start',\n",
        "        'alignment': 'center'}]},\n",
        "     'visualChannels': {'colorField': None,\n",
        "      'colorScale': 'quantile',\n",
        "      'strokeColorField': None,\n",
        "      'strokeColorScale': 'quantile',\n",
        "      'sizeField': None,\n",
        "      'sizeScale': 'linear'}},\n",
        "    {'id': 'jbj80d',\n",
        "     'type': 'point',\n",
        "     'config': {'dataId': 'streets',\n",
        "      'label': 'nodes2',\n",
        "      'color': [77, 193, 156],\n",
        "      'highlightColor': [252, 242, 26, 255],\n",
        "      'columns': {'lat': 'u_lat', 'lng': 'u_lon', 'altitude': None},\n",
        "      'isVisible': True,\n",
        "      'visConfig': {'radius': 10,\n",
        "       'fixedRadius': False,\n",
        "       'opacity': 0.8,\n",
        "       'outline': False,\n",
        "       'thickness': 2,\n",
        "       'strokeColor': None,\n",
        "       'colorRange': {'name': 'Global Warming',\n",
        "        'type': 'sequential',\n",
        "        'category': 'Uber',\n",
        "        'colors': ['#5A1846',\n",
        "         '#900C3F',\n",
        "         '#C70039',\n",
        "         '#E3611C',\n",
        "         '#F1920E',\n",
        "         '#FFC300']},\n",
        "       'strokeColorRange': {'name': 'Global Warming',\n",
        "        'type': 'sequential',\n",
        "        'category': 'Uber',\n",
        "        'colors': ['#5A1846',\n",
        "         '#900C3F',\n",
        "         '#C70039',\n",
        "         '#E3611C',\n",
        "         '#F1920E',\n",
        "         '#FFC300']},\n",
        "       'radiusRange': [0, 50],\n",
        "       'filled': True},\n",
        "      'hidden': False,\n",
        "      'textLabel': [{'field': None,\n",
        "        'color': [255, 255, 255],\n",
        "        'size': 18,\n",
        "        'offset': [0, 0],\n",
        "        'anchor': 'start',\n",
        "        'alignment': 'center'}]},\n",
        "     'visualChannels': {'colorField': None,\n",
        "      'colorScale': 'quantile',\n",
        "      'strokeColorField': None,\n",
        "      'strokeColorScale': 'quantile',\n",
        "      'sizeField': None,\n",
        "      'sizeScale': 'linear'}}],\n",
        "   'interactionConfig': {'tooltip': {'fieldsToShow': {'streets': [{'name': 'street_id',\n",
        "        'format': None},\n",
        "       {'name': 'u', 'format': None},\n",
        "       {'name': 'v', 'format': None},\n",
        "       {'name': 'length', 'format': None},\n",
        "       {'name': 'oneway', 'format': None}]},\n",
        "     'compareMode': False,\n",
        "     'compareType': 'absolute',\n",
        "     'enabled': True},\n",
        "    'brush': {'size': 0.5, 'enabled': False},\n",
        "    'geocoder': {'enabled': False},\n",
        "    'coordinate': {'enabled': False}},\n",
        "   'layerBlending': 'normal',\n",
        "   'splitMaps': [],\n",
        "   'animationConfig': {'currentTime': None, 'speed': 1}},\n",
        "  'mapState': {'bearing': 0,\n",
        "   'dragRotate': False,\n",
        "   'latitude': 35.77111563619981,\n",
        "   'longitude': 51.45539631358617,\n",
        "   'pitch': 0,\n",
        "   'zoom': 13.80416673176895,\n",
        "   'isSplit': False},\n",
        "  'mapStyle': {'styleType': 'dark',\n",
        "   'topLayerGroups': {},\n",
        "   'visibleLayerGroups': {'label': True,\n",
        "    'road': True,\n",
        "    'border': False,\n",
        "    'building': True,\n",
        "    'water': True,\n",
        "    'land': True,\n",
        "    '3d building': False},\n",
        "   'threeDBuildingColor': [9.665468314072013,\n",
        "    17.18305478057247,\n",
        "    31.1442867897876],\n",
        "   'mapStyles': {}}}}\n",
        "\n",
        "config_2 = {'version': 'v1',\n",
        " 'config': {'visState': {'filters': [{'dataId': ['trip'],\n",
        "     'id': 'vbi8ol9j',\n",
        "     'name': ['timestamp'],\n",
        "     'type': 'timeRange',\n",
        "     'value': [1704533318000, 1704533360000],\n",
        "     'enlarged': True,\n",
        "     'plotType': 'histogram',\n",
        "     'animationWindow': 'free',\n",
        "     'yAxis': None,\n",
        "     'speed': 1}],\n",
        "   'layers': [{'id': '890afcz',\n",
        "     'type': 'point',\n",
        "     'config': {'dataId': 'trip',\n",
        "      'label': 'Point',\n",
        "      'color': [77, 193, 156],\n",
        "      'highlightColor': [252, 242, 26, 255],\n",
        "      'columns': {'lat': 'lat', 'lng': 'lon', 'altitude': None},\n",
        "      'isVisible': True,\n",
        "      'visConfig': {'radius': 10,\n",
        "       'fixedRadius': False,\n",
        "       'opacity': 0.8,\n",
        "       'outline': False,\n",
        "       'thickness': 2,\n",
        "       'strokeColor': None,\n",
        "       'colorRange': {'name': 'ColorBrewer YlGnBu-6',\n",
        "        'type': 'sequential',\n",
        "        'category': 'ColorBrewer',\n",
        "        'colors': ['#ffffcc',\n",
        "         '#c7e9b4',\n",
        "         '#7fcdbb',\n",
        "         '#41b6c4',\n",
        "         '#2c7fb8',\n",
        "         '#253494']},\n",
        "       'strokeColorRange': {'name': 'Global Warming',\n",
        "        'type': 'sequential',\n",
        "        'category': 'Uber',\n",
        "        'colors': ['#5A1846',\n",
        "         '#900C3F',\n",
        "         '#C70039',\n",
        "         '#E3611C',\n",
        "         '#F1920E',\n",
        "         '#FFC300']},\n",
        "       'radiusRange': [0, 50],\n",
        "       'filled': True},\n",
        "      'hidden': False,\n",
        "      'textLabel': [{'field': None,\n",
        "        'color': [255, 255, 255],\n",
        "        'size': 18,\n",
        "        'offset': [0, 0],\n",
        "        'anchor': 'start',\n",
        "        'alignment': 'center'}]},\n",
        "     'visualChannels': {'colorField': {'name': 'timestamp',\n",
        "       'type': 'timestamp'},\n",
        "      'colorScale': 'quantile',\n",
        "      'strokeColorField': None,\n",
        "      'strokeColorScale': 'quantile',\n",
        "      'sizeField': None,\n",
        "      'sizeScale': 'linear'}}],\n",
        "   'interactionConfig': {'tooltip': {'fieldsToShow': {'trip': [{'name': 'timestamp',\n",
        "        'format': None}]},\n",
        "     'compareMode': False,\n",
        "     'compareType': 'absolute',\n",
        "     'enabled': True},\n",
        "    'brush': {'size': 0.5, 'enabled': False},\n",
        "    'geocoder': {'enabled': False},\n",
        "    'coordinate': {'enabled': False}},\n",
        "   'layerBlending': 'normal',\n",
        "   'splitMaps': [],\n",
        "   'animationConfig': {'currentTime': None, 'speed': 1}},\n",
        "  'mapState': {'bearing': 0,\n",
        "   'dragRotate': False,\n",
        "   'latitude': 35.77503816328773,\n",
        "   'longitude': 51.45760115843504,\n",
        "   'pitch': 0,\n",
        "   'zoom': 14.250853727965412,\n",
        "   'isSplit': False},\n",
        "  'mapStyle': {'styleType': 'dark',\n",
        "   'topLayerGroups': {},\n",
        "   'visibleLayerGroups': {'label': True,\n",
        "    'road': True,\n",
        "    'border': False,\n",
        "    'building': True,\n",
        "    'water': True,\n",
        "    'land': True,\n",
        "    '3d building': False},\n",
        "   'threeDBuildingColor': [9.665468314072013,\n",
        "    17.18305478057247,\n",
        "    31.1442867897876],\n",
        "   'mapStyles': {}}}}\n",
        "\n",
        "config_3 = {'version': 'v1',\n",
        " 'config': {'visState': {'filters': [{'dataId': ['ride'],\n",
        "     'id': '9lcw1lzo',\n",
        "     'name': ['timestamp'],\n",
        "     'type': 'timeRange',\n",
        "     'value': [1704531448675, 1704531452675],\n",
        "     'enlarged': True,\n",
        "     'plotType': 'histogram',\n",
        "     'animationWindow': 'free',\n",
        "     'yAxis': None,\n",
        "     'speed': 1}],\n",
        "   'layers': [{'id': '13v5d9h',\n",
        "     'type': 'point',\n",
        "     'config': {'dataId': 'ride',\n",
        "      'label': 'Point',\n",
        "      'color': [241, 92, 23],\n",
        "      'highlightColor': [252, 242, 26, 255],\n",
        "      'columns': {'lat': 'lat', 'lng': 'lon', 'altitude': None},\n",
        "      'isVisible': True,\n",
        "      'visConfig': {'radius': 10,\n",
        "       'fixedRadius': False,\n",
        "       'opacity': 0.8,\n",
        "       'outline': False,\n",
        "       'thickness': 2,\n",
        "       'strokeColor': None,\n",
        "       'colorRange': {'name': 'Uber Viz Diverging 1.5',\n",
        "        'type': 'diverging',\n",
        "        'category': 'Uber',\n",
        "        'colors': ['#00939C',\n",
        "         '#5DBABF',\n",
        "         '#BAE1E2',\n",
        "         '#F8C0AA',\n",
        "         '#DD7755',\n",
        "         '#C22E00']},\n",
        "       'strokeColorRange': {'name': 'Global Warming',\n",
        "        'type': 'sequential',\n",
        "        'category': 'Uber',\n",
        "        'colors': ['#5A1846',\n",
        "         '#900C3F',\n",
        "         '#C70039',\n",
        "         '#E3611C',\n",
        "         '#F1920E',\n",
        "         '#FFC300']},\n",
        "       'radiusRange': [0, 50],\n",
        "       'filled': True},\n",
        "      'hidden': False,\n",
        "      'textLabel': [{'field': None,\n",
        "        'color': [255, 255, 255],\n",
        "        'size': 18,\n",
        "        'offset': [0, 0],\n",
        "        'anchor': 'start',\n",
        "        'alignment': 'center'}]},\n",
        "     'visualChannels': {'colorField': {'name': 'timestamp',\n",
        "       'type': 'timestamp'},\n",
        "      'colorScale': 'quantile',\n",
        "      'strokeColorField': None,\n",
        "      'strokeColorScale': 'quantile',\n",
        "      'sizeField': None,\n",
        "      'sizeScale': 'linear'}}],\n",
        "   'interactionConfig': {'tooltip': {'fieldsToShow': {'ride': [{'name': 'timestamp',\n",
        "        'format': None}]},\n",
        "     'compareMode': False,\n",
        "     'compareType': 'absolute',\n",
        "     'enabled': True},\n",
        "    'brush': {'size': 0.5, 'enabled': False},\n",
        "    'geocoder': {'enabled': False},\n",
        "    'coordinate': {'enabled': False}},\n",
        "   'layerBlending': 'normal',\n",
        "   'splitMaps': [],\n",
        "   'animationConfig': {'currentTime': None, 'speed': 1}},\n",
        "  'mapState': {'bearing': 0,\n",
        "   'dragRotate': False,\n",
        "   'latitude': 35.770074283246004,\n",
        "   'longitude': 51.4518319383996,\n",
        "   'pitch': 0,\n",
        "   'zoom': 13.522313010849986,\n",
        "   'isSplit': False},\n",
        "  'mapStyle': {'styleType': 'dark',\n",
        "   'topLayerGroups': {},\n",
        "   'visibleLayerGroups': {'label': True,\n",
        "    'road': True,\n",
        "    'border': False,\n",
        "    'building': True,\n",
        "    'water': True,\n",
        "    'land': True,\n",
        "    '3d building': False},\n",
        "   'threeDBuildingColor': [9.665468314072013,\n",
        "    17.18305478057247,\n",
        "    31.1442867897876],\n",
        "   'mapStyles': {}}}}\n",
        "\n",
        "config_4 = {'version': 'v1',\n",
        " 'config': {'visState': {'filters': [],\n",
        "   'layers': [{'id': '2zv158l',\n",
        "     'type': 'point',\n",
        "     'config': {'dataId': 'Original',\n",
        "      'label': 'Point',\n",
        "      'color': [218, 112, 191],\n",
        "      'highlightColor': [252, 242, 26, 255],\n",
        "      'columns': {'lat': 'lat', 'lng': 'lon', 'altitude': None},\n",
        "      'isVisible': True,\n",
        "      'visConfig': {'radius': 10,\n",
        "       'fixedRadius': False,\n",
        "       'opacity': 0.8,\n",
        "       'outline': False,\n",
        "       'thickness': 2,\n",
        "       'strokeColor': None,\n",
        "       'colorRange': {'name': 'Global Warming',\n",
        "        'type': 'sequential',\n",
        "        'category': 'Uber',\n",
        "        'colors': ['#5A1846',\n",
        "         '#900C3F',\n",
        "         '#C70039',\n",
        "         '#E3611C',\n",
        "         '#F1920E',\n",
        "         '#FFC300']},\n",
        "       'strokeColorRange': {'name': 'Global Warming',\n",
        "        'type': 'sequential',\n",
        "        'category': 'Uber',\n",
        "        'colors': ['#5A1846',\n",
        "         '#900C3F',\n",
        "         '#C70039',\n",
        "         '#E3611C',\n",
        "         '#F1920E',\n",
        "         '#FFC300']},\n",
        "       'radiusRange': [0, 50],\n",
        "       'filled': True},\n",
        "      'hidden': False,\n",
        "      'textLabel': [{'field': None,\n",
        "        'color': [255, 255, 255],\n",
        "        'size': 18,\n",
        "        'offset': [0, 0],\n",
        "        'anchor': 'start',\n",
        "        'alignment': 'center'}]},\n",
        "     'visualChannels': {'colorField': None,\n",
        "      'colorScale': 'quantile',\n",
        "      'strokeColorField': None,\n",
        "      'strokeColorScale': 'quantile',\n",
        "      'sizeField': None,\n",
        "      'sizeScale': 'linear'}},\n",
        "    {'id': 'ohwko3b',\n",
        "     'type': 'point',\n",
        "     'config': {'dataId': 'Uniform',\n",
        "      'label': 'Point',\n",
        "      'color': [18, 92, 119],\n",
        "      'highlightColor': [252, 242, 26, 255],\n",
        "      'columns': {'lat': 'lat', 'lng': 'lon', 'altitude': None},\n",
        "      'isVisible': True,\n",
        "      'visConfig': {'radius': 10,\n",
        "       'fixedRadius': False,\n",
        "       'opacity': 0.8,\n",
        "       'outline': False,\n",
        "       'thickness': 2,\n",
        "       'strokeColor': None,\n",
        "       'colorRange': {'name': 'Global Warming',\n",
        "        'type': 'sequential',\n",
        "        'category': 'Uber',\n",
        "        'colors': ['#5A1846',\n",
        "         '#900C3F',\n",
        "         '#C70039',\n",
        "         '#E3611C',\n",
        "         '#F1920E',\n",
        "         '#FFC300']},\n",
        "       'strokeColorRange': {'name': 'Global Warming',\n",
        "        'type': 'sequential',\n",
        "        'category': 'Uber',\n",
        "        'colors': ['#5A1846',\n",
        "         '#900C3F',\n",
        "         '#C70039',\n",
        "         '#E3611C',\n",
        "         '#F1920E',\n",
        "         '#FFC300']},\n",
        "       'radiusRange': [0, 50],\n",
        "       'filled': True},\n",
        "      'hidden': False,\n",
        "      'textLabel': [{'field': None,\n",
        "        'color': [255, 255, 255],\n",
        "        'size': 18,\n",
        "        'offset': [0, 0],\n",
        "        'anchor': 'start',\n",
        "        'alignment': 'center'}]},\n",
        "     'visualChannels': {'colorField': None,\n",
        "      'colorScale': 'quantile',\n",
        "      'strokeColorField': None,\n",
        "      'strokeColorScale': 'quantile',\n",
        "      'sizeField': None,\n",
        "      'sizeScale': 'linear'}},\n",
        "    {'id': 'j59sk6',\n",
        "     'type': 'point',\n",
        "     'config': {'dataId': 'Normal',\n",
        "      'label': 'Point',\n",
        "      'color': [77, 193, 156],\n",
        "      'highlightColor': [252, 242, 26, 255],\n",
        "      'columns': {'lat': 'lat', 'lng': 'lon', 'altitude': None},\n",
        "      'isVisible': True,\n",
        "      'visConfig': {'radius': 10,\n",
        "       'fixedRadius': False,\n",
        "       'opacity': 0.8,\n",
        "       'outline': False,\n",
        "       'thickness': 2,\n",
        "       'strokeColor': None,\n",
        "       'colorRange': {'name': 'Global Warming',\n",
        "        'type': 'sequential',\n",
        "        'category': 'Uber',\n",
        "        'colors': ['#5A1846',\n",
        "         '#900C3F',\n",
        "         '#C70039',\n",
        "         '#E3611C',\n",
        "         '#F1920E',\n",
        "         '#FFC300']},\n",
        "       'strokeColorRange': {'name': 'Global Warming',\n",
        "        'type': 'sequential',\n",
        "        'category': 'Uber',\n",
        "        'colors': ['#5A1846',\n",
        "         '#900C3F',\n",
        "         '#C70039',\n",
        "         '#E3611C',\n",
        "         '#F1920E',\n",
        "         '#FFC300']},\n",
        "       'radiusRange': [0, 50],\n",
        "       'filled': True},\n",
        "      'hidden': False,\n",
        "      'textLabel': [{'field': None,\n",
        "        'color': [255, 255, 255],\n",
        "        'size': 18,\n",
        "        'offset': [0, 0],\n",
        "        'anchor': 'start',\n",
        "        'alignment': 'center'}]},\n",
        "     'visualChannels': {'colorField': None,\n",
        "      'colorScale': 'quantile',\n",
        "      'strokeColorField': None,\n",
        "      'strokeColorScale': 'quantile',\n",
        "      'sizeField': None,\n",
        "      'sizeScale': 'linear'}},\n",
        "    {'id': '8obey9v',\n",
        "     'type': 'point',\n",
        "     'config': {'dataId': 'Exponential',\n",
        "      'label': 'Point',\n",
        "      'color': [119, 110, 87],\n",
        "      'highlightColor': [252, 242, 26, 255],\n",
        "      'columns': {'lat': 'lat', 'lng': 'lon', 'altitude': None},\n",
        "      'isVisible': True,\n",
        "      'visConfig': {'radius': 10,\n",
        "       'fixedRadius': False,\n",
        "       'opacity': 0.8,\n",
        "       'outline': False,\n",
        "       'thickness': 2,\n",
        "       'strokeColor': None,\n",
        "       'colorRange': {'name': 'Global Warming',\n",
        "        'type': 'sequential',\n",
        "        'category': 'Uber',\n",
        "        'colors': ['#5A1846',\n",
        "         '#900C3F',\n",
        "         '#C70039',\n",
        "         '#E3611C',\n",
        "         '#F1920E',\n",
        "         '#FFC300']},\n",
        "       'strokeColorRange': {'name': 'Global Warming',\n",
        "        'type': 'sequential',\n",
        "        'category': 'Uber',\n",
        "        'colors': ['#5A1846',\n",
        "         '#900C3F',\n",
        "         '#C70039',\n",
        "         '#E3611C',\n",
        "         '#F1920E',\n",
        "         '#FFC300']},\n",
        "       'radiusRange': [0, 50],\n",
        "       'filled': True},\n",
        "      'hidden': False,\n",
        "      'textLabel': [{'field': None,\n",
        "        'color': [255, 255, 255],\n",
        "        'size': 18,\n",
        "        'offset': [0, 0],\n",
        "        'anchor': 'start',\n",
        "        'alignment': 'center'}]},\n",
        "     'visualChannels': {'colorField': None,\n",
        "      'colorScale': 'quantile',\n",
        "      'strokeColorField': None,\n",
        "      'strokeColorScale': 'quantile',\n",
        "      'sizeField': None,\n",
        "      'sizeScale': 'linear'}},\n",
        "    {'id': 'tbf478',\n",
        "     'type': 'point',\n",
        "     'config': {'dataId': 'Normal_speed',\n",
        "      'label': 'Point',\n",
        "      'color': [23, 184, 190],\n",
        "      'highlightColor': [252, 242, 26, 255],\n",
        "      'columns': {'lat': 'lat', 'lng': 'lon', 'altitude': None},\n",
        "      'isVisible': True,\n",
        "      'visConfig': {'radius': 10,\n",
        "       'fixedRadius': False,\n",
        "       'opacity': 0.8,\n",
        "       'outline': False,\n",
        "       'thickness': 2,\n",
        "       'strokeColor': None,\n",
        "       'colorRange': {'name': 'Global Warming',\n",
        "        'type': 'sequential',\n",
        "        'category': 'Uber',\n",
        "        'colors': ['#5A1846',\n",
        "         '#900C3F',\n",
        "         '#C70039',\n",
        "         '#E3611C',\n",
        "         '#F1920E',\n",
        "         '#FFC300']},\n",
        "       'strokeColorRange': {'name': 'Global Warming',\n",
        "        'type': 'sequential',\n",
        "        'category': 'Uber',\n",
        "        'colors': ['#5A1846',\n",
        "         '#900C3F',\n",
        "         '#C70039',\n",
        "         '#E3611C',\n",
        "         '#F1920E',\n",
        "         '#FFC300']},\n",
        "       'radiusRange': [0, 50],\n",
        "       'filled': True},\n",
        "      'hidden': False,\n",
        "      'textLabel': [{'field': None,\n",
        "        'color': [255, 255, 255],\n",
        "        'size': 18,\n",
        "        'offset': [0, 0],\n",
        "        'anchor': 'start',\n",
        "        'alignment': 'center'}]},\n",
        "     'visualChannels': {'colorField': None,\n",
        "      'colorScale': 'quantile',\n",
        "      'strokeColorField': None,\n",
        "      'strokeColorScale': 'quantile',\n",
        "      'sizeField': None,\n",
        "      'sizeScale': 'linear'}}],\n",
        "   'interactionConfig': {'tooltip': {'fieldsToShow': {'Original': [{'name': 'timestamp',\n",
        "        'format': None}],\n",
        "      'Uniform': [{'name': 'timestamp', 'format': None}],\n",
        "      'Normal': [{'name': 'timestamp', 'format': None}],\n",
        "      'Exponential': [{'name': 'timestamp', 'format': None}],\n",
        "      'Normal_speed': [{'name': 'timestamp', 'format': None}]},\n",
        "     'compareMode': False,\n",
        "     'compareType': 'absolute',\n",
        "     'enabled': True},\n",
        "    'brush': {'size': 0.5, 'enabled': False},\n",
        "    'geocoder': {'enabled': False},\n",
        "    'coordinate': {'enabled': False}},\n",
        "   'layerBlending': 'normal',\n",
        "   'splitMaps': [],\n",
        "   'animationConfig': {'currentTime': None, 'speed': 1}},\n",
        "  'mapState': {'bearing': 0,\n",
        "   'dragRotate': False,\n",
        "   'latitude': 35.77412536181311,\n",
        "   'longitude': 51.447517306843565,\n",
        "   'pitch': 0,\n",
        "   'zoom': 15,\n",
        "   'isSplit': False},\n",
        "  'mapStyle': {'styleType': 'dark',\n",
        "   'topLayerGroups': {},\n",
        "   'visibleLayerGroups': {'label': True,\n",
        "    'road': True,\n",
        "    'border': False,\n",
        "    'building': True,\n",
        "    'water': True,\n",
        "    'land': True,\n",
        "    '3d building': False},\n",
        "   'threeDBuildingColor': [9.665468314072013,\n",
        "    17.18305478057247,\n",
        "    31.1442867897876],\n",
        "   'mapStyles': {}}}}\n",
        "\n",
        "config_5 = {'version': 'v1',\n",
        " 'config': {'visState': {'filters': [],\n",
        "   'layers': [{'id': 'aubru7o',\n",
        "     'type': 'point',\n",
        "     'config': {'dataId': 'Original',\n",
        "      'label': 'Point',\n",
        "      'color': [47, 197, 204],\n",
        "      'highlightColor': [252, 242, 26, 255],\n",
        "      'columns': {'lat': 'lat', 'lng': 'lon', 'altitude': None},\n",
        "      'isVisible': True,\n",
        "      'visConfig': {'radius': 10,\n",
        "       'fixedRadius': False,\n",
        "       'opacity': 0.8,\n",
        "       'outline': False,\n",
        "       'thickness': 2,\n",
        "       'strokeColor': None,\n",
        "       'colorRange': {'name': 'Global Warming',\n",
        "        'type': 'sequential',\n",
        "        'category': 'Uber',\n",
        "        'colors': ['#5A1846',\n",
        "         '#900C3F',\n",
        "         '#C70039',\n",
        "         '#E3611C',\n",
        "         '#F1920E',\n",
        "         '#FFC300']},\n",
        "       'strokeColorRange': {'name': 'Global Warming',\n",
        "        'type': 'sequential',\n",
        "        'category': 'Uber',\n",
        "        'colors': ['#5A1846',\n",
        "         '#900C3F',\n",
        "         '#C70039',\n",
        "         '#E3611C',\n",
        "         '#F1920E',\n",
        "         '#FFC300']},\n",
        "       'radiusRange': [0, 50],\n",
        "       'filled': True},\n",
        "      'hidden': False,\n",
        "      'textLabel': [{'field': None,\n",
        "        'color': [255, 255, 255],\n",
        "        'size': 18,\n",
        "        'offset': [0, 0],\n",
        "        'anchor': 'start',\n",
        "        'alignment': 'center'}]},\n",
        "     'visualChannels': {'colorField': None,\n",
        "      'colorScale': 'quantile',\n",
        "      'strokeColorField': None,\n",
        "      'strokeColorScale': 'quantile',\n",
        "      'sizeField': None,\n",
        "      'sizeScale': 'linear'}},\n",
        "    {'id': 'b5rjzgg',\n",
        "     'type': 'point',\n",
        "     'config': {'dataId': 'Noisy',\n",
        "      'label': 'Point',\n",
        "      'color': [250, 116, 0],\n",
        "      'highlightColor': [252, 242, 26, 255],\n",
        "      'columns': {'lat': 'lat', 'lng': 'lon', 'altitude': None},\n",
        "      'isVisible': True,\n",
        "      'visConfig': {'radius': 10,\n",
        "       'fixedRadius': False,\n",
        "       'opacity': 0.8,\n",
        "       'outline': False,\n",
        "       'thickness': 2,\n",
        "       'strokeColor': None,\n",
        "       'colorRange': {'name': 'Global Warming',\n",
        "        'type': 'sequential',\n",
        "        'category': 'Uber',\n",
        "        'colors': ['#5A1846',\n",
        "         '#900C3F',\n",
        "         '#C70039',\n",
        "         '#E3611C',\n",
        "         '#F1920E',\n",
        "         '#FFC300']},\n",
        "       'strokeColorRange': {'name': 'Global Warming',\n",
        "        'type': 'sequential',\n",
        "        'category': 'Uber',\n",
        "        'colors': ['#5A1846',\n",
        "         '#900C3F',\n",
        "         '#C70039',\n",
        "         '#E3611C',\n",
        "         '#F1920E',\n",
        "         '#FFC300']},\n",
        "       'radiusRange': [0, 50],\n",
        "       'filled': True},\n",
        "      'hidden': False,\n",
        "      'textLabel': [{'field': None,\n",
        "        'color': [255, 255, 255],\n",
        "        'size': 18,\n",
        "        'offset': [0, 0],\n",
        "        'anchor': 'start',\n",
        "        'alignment': 'center'}]},\n",
        "     'visualChannels': {'colorField': None,\n",
        "      'colorScale': 'quantile',\n",
        "      'strokeColorField': None,\n",
        "      'strokeColorScale': 'quantile',\n",
        "      'sizeField': None,\n",
        "      'sizeScale': 'linear'}}],\n",
        "   'interactionConfig': {'tooltip': {'fieldsToShow': {'Original': [{'name': 'timestamp',\n",
        "        'format': None}],\n",
        "      'Noisy': [{'name': 'timestamp', 'format': None}]},\n",
        "     'compareMode': False,\n",
        "     'compareType': 'absolute',\n",
        "     'enabled': True},\n",
        "    'brush': {'size': 0.5, 'enabled': False},\n",
        "    'geocoder': {'enabled': False},\n",
        "    'coordinate': {'enabled': False}},\n",
        "   'layerBlending': 'normal',\n",
        "   'splitMaps': [],\n",
        "   'animationConfig': {'currentTime': None, 'speed': 1}},\n",
        "  'mapState': {'bearing': 0,\n",
        "   'dragRotate': False,\n",
        "   'latitude': 35.77441514569873,\n",
        "   'longitude': 51.448100816811916,\n",
        "   'pitch': 0,\n",
        "   'zoom': 15,\n",
        "   'isSplit': False},\n",
        "  'mapStyle': {'styleType': 'dark',\n",
        "   'topLayerGroups': {},\n",
        "   'visibleLayerGroups': {'label': True,\n",
        "    'road': True,\n",
        "    'border': False,\n",
        "    'building': True,\n",
        "    'water': True,\n",
        "    'land': True,\n",
        "    '3d building': False},\n",
        "   'threeDBuildingColor': [9.665468314072013,\n",
        "    17.18305478057247,\n",
        "    31.1442867897876],\n",
        "   'mapStyles': {}}}}\n",
        "\n",
        "config_6 = {'version': 'v1',\n",
        " 'config': {'visState': {'filters': [],\n",
        "   'layers': [{'id': 'fmvpuni',\n",
        "     'type': 'point',\n",
        "     'config': {'dataId': 'Noisy',\n",
        "      'label': 'Point',\n",
        "      'color': [255, 152, 51],\n",
        "      'highlightColor': [252, 242, 26, 255],\n",
        "      'columns': {'lat': 'lat', 'lng': 'lon', 'altitude': None},\n",
        "      'isVisible': True,\n",
        "      'visConfig': {'radius': 10,\n",
        "       'fixedRadius': False,\n",
        "       'opacity': 0.8,\n",
        "       'outline': False,\n",
        "       'thickness': 2,\n",
        "       'strokeColor': None,\n",
        "       'colorRange': {'name': 'Global Warming',\n",
        "        'type': 'sequential',\n",
        "        'category': 'Uber',\n",
        "        'colors': ['#5A1846',\n",
        "         '#900C3F',\n",
        "         '#C70039',\n",
        "         '#E3611C',\n",
        "         '#F1920E',\n",
        "         '#FFC300']},\n",
        "       'strokeColorRange': {'name': 'Global Warming',\n",
        "        'type': 'sequential',\n",
        "        'category': 'Uber',\n",
        "        'colors': ['#5A1846',\n",
        "         '#900C3F',\n",
        "         '#C70039',\n",
        "         '#E3611C',\n",
        "         '#F1920E',\n",
        "         '#FFC300']},\n",
        "       'radiusRange': [0, 50],\n",
        "       'filled': True},\n",
        "      'hidden': False,\n",
        "      'textLabel': [{'field': None,\n",
        "        'color': [255, 255, 255],\n",
        "        'size': 18,\n",
        "        'offset': [0, 0],\n",
        "        'anchor': 'start',\n",
        "        'alignment': 'center'}]},\n",
        "     'visualChannels': {'colorField': None,\n",
        "      'colorScale': 'quantile',\n",
        "      'strokeColorField': None,\n",
        "      'strokeColorScale': 'quantile',\n",
        "      'sizeField': None,\n",
        "      'sizeScale': 'linear'}},\n",
        "    {'id': 'bvov52g',\n",
        "     'type': 'point',\n",
        "     'config': {'dataId': 'Denoised',\n",
        "      'label': 'Point',\n",
        "      'color': [105, 79, 214],\n",
        "      'highlightColor': [252, 242, 26, 255],\n",
        "      'columns': {'lat': 'lat', 'lng': 'lon', 'altitude': None},\n",
        "      'isVisible': True,\n",
        "      'visConfig': {'radius': 10,\n",
        "       'fixedRadius': False,\n",
        "       'opacity': 0.8,\n",
        "       'outline': False,\n",
        "       'thickness': 2,\n",
        "       'strokeColor': None,\n",
        "       'colorRange': {'name': 'Global Warming',\n",
        "        'type': 'sequential',\n",
        "        'category': 'Uber',\n",
        "        'colors': ['#5A1846',\n",
        "         '#900C3F',\n",
        "         '#C70039',\n",
        "         '#E3611C',\n",
        "         '#F1920E',\n",
        "         '#FFC300']},\n",
        "       'strokeColorRange': {'name': 'Global Warming',\n",
        "        'type': 'sequential',\n",
        "        'category': 'Uber',\n",
        "        'colors': ['#5A1846',\n",
        "         '#900C3F',\n",
        "         '#C70039',\n",
        "         '#E3611C',\n",
        "         '#F1920E',\n",
        "         '#FFC300']},\n",
        "       'radiusRange': [0, 50],\n",
        "       'filled': True},\n",
        "      'hidden': False,\n",
        "      'textLabel': [{'field': None,\n",
        "        'color': [255, 255, 255],\n",
        "        'size': 18,\n",
        "        'offset': [0, 0],\n",
        "        'anchor': 'start',\n",
        "        'alignment': 'center'}]},\n",
        "     'visualChannels': {'colorField': None,\n",
        "      'colorScale': 'quantile',\n",
        "      'strokeColorField': None,\n",
        "      'strokeColorScale': 'quantile',\n",
        "      'sizeField': None,\n",
        "      'sizeScale': 'linear'}}],\n",
        "   'interactionConfig': {'tooltip': {'fieldsToShow': {'Noisy': [{'name': 'timestamp',\n",
        "        'format': None}],\n",
        "      'Denoised': [{'name': 'timestamp', 'format': None}]},\n",
        "     'compareMode': False,\n",
        "     'compareType': 'absolute',\n",
        "     'enabled': True},\n",
        "    'brush': {'size': 0.5, 'enabled': False},\n",
        "    'geocoder': {'enabled': False},\n",
        "    'coordinate': {'enabled': False}},\n",
        "   'layerBlending': 'normal',\n",
        "   'splitMaps': [],\n",
        "   'animationConfig': {'currentTime': None, 'speed': 1}},\n",
        "  'mapState': {'bearing': 0,\n",
        "   'dragRotate': False,\n",
        "   'latitude': 35.77186192868649,\n",
        "   'longitude': 51.446787628356134,\n",
        "   'pitch': 0,\n",
        "   'zoom': 14.39961773797643,\n",
        "   'isSplit': False},\n",
        "  'mapStyle': {'styleType': 'dark',\n",
        "   'topLayerGroups': {},\n",
        "   'visibleLayerGroups': {'label': True,\n",
        "    'road': True,\n",
        "    'border': False,\n",
        "    'building': True,\n",
        "    'water': True,\n",
        "    'land': True,\n",
        "    '3d building': False},\n",
        "   'threeDBuildingColor': [9.665468314072013,\n",
        "    17.18305478057247,\n",
        "    31.1442867897876],\n",
        "   'mapStyles': {}}}}"
      ]
    },
    {
      "cell_type": "code",
      "execution_count": 41,
      "metadata": {},
      "outputs": [],
      "source": [
        "# # If you are using colab, you need to run this cell\n",
        "# from google.colab import output\n",
        "# output.enable_custom_widget_manager()"
      ]
    },
    {
      "cell_type": "markdown",
      "metadata": {},
      "source": [
        "## Introduction\n",
        "In this phase of project, you are going to implement a *denoising algorithm*. In many cases, when an application is dealing with _user GPS location_, in many urban areas and the places with tall towers, the GPS signal gets too noisy! This is the reason of why when you open \"google maps\", you see your current location with a blue circle around it. The radius of this circle shows the accuracy of your location. Sometimes, this radius is around 10m and in other areas, it goes in scale of km, making the GPS location totally unstable and unreliable! This amount of noise makes it impossible to use the data for any kind of analysis. In \"ride hailing\" applications like Uber, many of functionalities rely on the accuracy of GPS data. E.g. ETA estimation (Estimated time of arrival) is highly dependent on the accuracy of GPS data. In this phase, you are going to implement a denoising algorithm to make the GPS data more reliable. You will use your kowledge of Hidden Markov Models to implement this algorithm.\n",
        "\n",
        "<div style=\"text-align: center\">\n",
        "<img src=\"./Images/blue_dot.jpg\" height=\"500\" width=\"auto\" /> </br>\n",
        "(Sample of GPS data with blue dot)\n",
        "</div>"
      ]
    },
    {
      "cell_type": "markdown",
      "metadata": {},
      "source": [
        "# Loading Pasdaran streets dataset"
      ]
    },
    {
      "cell_type": "markdown",
      "metadata": {},
      "source": [
        "In this section, you will load a dataset that is prepared for you. The dataset contains some GPS locations (nodes) from Pasdaran Streets and also another dataset which contains the \"streets\" in Pasdaran area. By \"street\" we mean a pair of nodes, representing two end-points of a street in the map. These datasets are in `Data/` folder with names `pasdaran_streets.csv` and `pasdaran_nodes.csv`."
      ]
    },
    {
      "cell_type": "code",
      "execution_count": 42,
      "metadata": {},
      "outputs": [],
      "source": [
        "# Load the data\n",
        "pasdaran_streets = pd.read_csv('pasdaran_streets.csv')\n",
        "pasdaran_nodes = pd.read_csv('pasdaran_nodes.csv')"
      ]
    },
    {
      "cell_type": "code",
      "execution_count": 43,
      "metadata": {},
      "outputs": [
        {
          "data": {
            "text/html": [
              "<div>\n",
              "<style scoped>\n",
              "    .dataframe tbody tr th:only-of-type {\n",
              "        vertical-align: middle;\n",
              "    }\n",
              "\n",
              "    .dataframe tbody tr th {\n",
              "        vertical-align: top;\n",
              "    }\n",
              "\n",
              "    .dataframe thead th {\n",
              "        text-align: right;\n",
              "    }\n",
              "</style>\n",
              "<table border=\"1\" class=\"dataframe\">\n",
              "  <thead>\n",
              "    <tr style=\"text-align: right;\">\n",
              "      <th></th>\n",
              "      <th>street_id</th>\n",
              "      <th>u</th>\n",
              "      <th>v</th>\n",
              "      <th>length</th>\n",
              "      <th>oneway</th>\n",
              "      <th>u_lat</th>\n",
              "      <th>u_lon</th>\n",
              "      <th>v_lat</th>\n",
              "      <th>v_lon</th>\n",
              "    </tr>\n",
              "  </thead>\n",
              "  <tbody>\n",
              "    <tr>\n",
              "      <th>0</th>\n",
              "      <td>5003747</td>\n",
              "      <td>423833948</td>\n",
              "      <td>423793584</td>\n",
              "      <td>90.570</td>\n",
              "      <td>no</td>\n",
              "      <td>35.772419</td>\n",
              "      <td>51.465652</td>\n",
              "      <td>35.771748</td>\n",
              "      <td>51.465084</td>\n",
              "    </tr>\n",
              "    <tr>\n",
              "      <th>1</th>\n",
              "      <td>17099043</td>\n",
              "      <td>177540293</td>\n",
              "      <td>423832815</td>\n",
              "      <td>296.273</td>\n",
              "      <td>yes</td>\n",
              "      <td>35.771034</td>\n",
              "      <td>51.464462</td>\n",
              "      <td>35.772175</td>\n",
              "      <td>51.461494</td>\n",
              "    </tr>\n",
              "    <tr>\n",
              "      <th>2</th>\n",
              "      <td>787945693</td>\n",
              "      <td>4429684144</td>\n",
              "      <td>423832815</td>\n",
              "      <td>62.573</td>\n",
              "      <td>no</td>\n",
              "      <td>35.772636</td>\n",
              "      <td>51.461891</td>\n",
              "      <td>35.772175</td>\n",
              "      <td>51.461494</td>\n",
              "    </tr>\n",
              "    <tr>\n",
              "      <th>3</th>\n",
              "      <td>687277053</td>\n",
              "      <td>177540293</td>\n",
              "      <td>423793585</td>\n",
              "      <td>97.898</td>\n",
              "      <td>no</td>\n",
              "      <td>35.771034</td>\n",
              "      <td>51.464462</td>\n",
              "      <td>35.770317</td>\n",
              "      <td>51.463833</td>\n",
              "    </tr>\n",
              "    <tr>\n",
              "      <th>4</th>\n",
              "      <td>36333153</td>\n",
              "      <td>9339973930</td>\n",
              "      <td>423793585</td>\n",
              "      <td>296.275</td>\n",
              "      <td>yes</td>\n",
              "      <td>35.771458</td>\n",
              "      <td>51.460865</td>\n",
              "      <td>35.770317</td>\n",
              "      <td>51.463833</td>\n",
              "    </tr>\n",
              "  </tbody>\n",
              "</table>\n",
              "</div>"
            ],
            "text/plain": [
              "   street_id           u          v   length oneway      u_lat      u_lon  \\\n",
              "0    5003747   423833948  423793584   90.570     no  35.772419  51.465652   \n",
              "1   17099043   177540293  423832815  296.273    yes  35.771034  51.464462   \n",
              "2  787945693  4429684144  423832815   62.573     no  35.772636  51.461891   \n",
              "3  687277053   177540293  423793585   97.898     no  35.771034  51.464462   \n",
              "4   36333153  9339973930  423793585  296.275    yes  35.771458  51.460865   \n",
              "\n",
              "       v_lat      v_lon  \n",
              "0  35.771748  51.465084  \n",
              "1  35.772175  51.461494  \n",
              "2  35.772175  51.461494  \n",
              "3  35.770317  51.463833  \n",
              "4  35.770317  51.463833  "
            ]
          },
          "execution_count": 43,
          "metadata": {},
          "output_type": "execute_result"
        }
      ],
      "source": [
        "pasdaran_streets.head()"
      ]
    },
    {
      "cell_type": "code",
      "execution_count": 44,
      "metadata": {},
      "outputs": [
        {
          "data": {
            "text/html": [
              "<div>\n",
              "<style scoped>\n",
              "    .dataframe tbody tr th:only-of-type {\n",
              "        vertical-align: middle;\n",
              "    }\n",
              "\n",
              "    .dataframe tbody tr th {\n",
              "        vertical-align: top;\n",
              "    }\n",
              "\n",
              "    .dataframe thead th {\n",
              "        text-align: right;\n",
              "    }\n",
              "</style>\n",
              "<table border=\"1\" class=\"dataframe\">\n",
              "  <thead>\n",
              "    <tr style=\"text-align: right;\">\n",
              "      <th></th>\n",
              "      <th>id</th>\n",
              "      <th>lat</th>\n",
              "      <th>lon</th>\n",
              "    </tr>\n",
              "  </thead>\n",
              "  <tbody>\n",
              "    <tr>\n",
              "      <th>0</th>\n",
              "      <td>423833948</td>\n",
              "      <td>35.772419</td>\n",
              "      <td>51.465652</td>\n",
              "    </tr>\n",
              "    <tr>\n",
              "      <th>1</th>\n",
              "      <td>423793584</td>\n",
              "      <td>35.771748</td>\n",
              "      <td>51.465084</td>\n",
              "    </tr>\n",
              "    <tr>\n",
              "      <th>2</th>\n",
              "      <td>177536927</td>\n",
              "      <td>35.776230</td>\n",
              "      <td>51.465034</td>\n",
              "    </tr>\n",
              "    <tr>\n",
              "      <th>3</th>\n",
              "      <td>177540293</td>\n",
              "      <td>35.771034</td>\n",
              "      <td>51.464462</td>\n",
              "    </tr>\n",
              "    <tr>\n",
              "      <th>4</th>\n",
              "      <td>423832815</td>\n",
              "      <td>35.772175</td>\n",
              "      <td>51.461494</td>\n",
              "    </tr>\n",
              "  </tbody>\n",
              "</table>\n",
              "</div>"
            ],
            "text/plain": [
              "          id        lat        lon\n",
              "0  423833948  35.772419  51.465652\n",
              "1  423793584  35.771748  51.465084\n",
              "2  177536927  35.776230  51.465034\n",
              "3  177540293  35.771034  51.464462\n",
              "4  423832815  35.772175  51.461494"
            ]
          },
          "execution_count": 44,
          "metadata": {},
          "output_type": "execute_result"
        }
      ],
      "source": [
        "pasdaran_nodes.head()"
      ]
    },
    {
      "cell_type": "code",
      "execution_count": 45,
      "metadata": {},
      "outputs": [
        {
          "name": "stdout",
          "output_type": "stream",
          "text": [
            "User Guide: https://docs.kepler.gl/docs/keplergl-jupyter\n"
          ]
        },
        {
          "data": {
            "application/vnd.jupyter.widget-view+json": {
              "model_id": "b28f90da107c4041b92d484871120e2a",
              "version_major": 2,
              "version_minor": 0
            },
            "text/plain": [
              "KeplerGl(config={'version': 'v1', 'config': {'visState': {'filters': [], 'layers': [{'id': '95m4t7j', 'type': …"
            ]
          },
          "metadata": {},
          "output_type": "display_data"
        }
      ],
      "source": [
        "# Visualize pasdaran_streets using kepler\n",
        "map_1 = KeplerGl(height=600, config=config_1)\n",
        "map_1.add_data(data=pasdaran_streets, name='streets')\n",
        "map_1"
      ]
    },
    {
      "cell_type": "markdown",
      "metadata": {
        "id": "osSfUikvvQ6Q"
      },
      "source": [
        "# Creating dataset for trip"
      ]
    },
    {
      "cell_type": "markdown",
      "metadata": {
        "id": "HR3QM8DKvWWt"
      },
      "source": [
        "As you understood, until now, we loaded 2 datasets, `pasdaran_nodes` and `pasdaran_streets`. Now, we should create a dataset from these, such that we can use it for our trip. Each item in this dataset is called a `ride`. We will explain more as we go on."
      ]
    },
    {
      "cell_type": "markdown",
      "metadata": {},
      "source": [
        "First, we should create a **trip** for a driver. For this sake, we should choose 2 random points in our map as the source and destination of the trip. Now, we should find the streets that connect these 2 points. Each street has a length. You should find the shortest path between these 2 points (source and destination) which are in the `pasdaran_streets`. Note that this path should be the **shortest path** meaning that the sum of the lengths of streets should be minimum.\n",
        "\n",
        "**NOTE**: You cannot use any library for finding the shortest path. You should implement it yourself, from scratch. Feel free to use any algorithm and heuristic that you want. Be creative!\n",
        "\n",
        "**NOTE**: Be aware of \"length of streets\" and whether or not they are \"one_way\"!"
      ]
    },
    {
      "cell_type": "code",
      "execution_count": 46,
      "metadata": {
        "id": "w909XhNelmbT"
      },
      "outputs": [],
      "source": [
        "# TODO: You should implement this from scratch and you cannot use any library (such as networkx) for finding the shortest path.\n",
        "import heapq\n",
        "\n",
        "def dijkstra(graph, start, end, node_ids):\n",
        "    distances = {node: float('inf') for node in node_ids}\n",
        "    distances[start] = 0\n",
        "    priority_q = [(0, start)]  # (distance, node)\n",
        "    previous = {}\n",
        "    while priority_q:\n",
        "        current_dist, current_node = heapq.heappop(priority_q)\n",
        "\n",
        "        if current_node == end:\n",
        "            path = []\n",
        "            while current_node in previous:\n",
        "                path.insert(0, current_node)\n",
        "                current_node = previous[current_node]\n",
        "            path.insert(0, start)\n",
        "            return path, distances[end]\n",
        "\n",
        "        for neighbor, edge_length in graph[current_node]:\n",
        "            distance = current_dist + edge_length\n",
        "            if distance < distances[neighbor]:\n",
        "                distances[neighbor] = distance\n",
        "                heapq.heappush(priority_q, (distance, neighbor))\n",
        "                previous[neighbor] = current_node\n",
        "\n",
        "    return [], float('inf')  # No path\n",
        "    \n",
        "\n",
        "\n",
        "def find_shortest_path(start_node, end_node, graph):\n",
        "    \"\"\"\n",
        "    Find the shortest path between two nodes in a graph.\n",
        "    :param start_node: The start node\n",
        "    :param end_node: The end node\n",
        "    :param graph: The graph\n",
        "    :return: The shortest path. It is a list of node_ids from start_node to end_node.\n",
        "    Note that you use all of the data in \"pasdaran_streets\" dataset appropriately such as \"street_length\" and \"one_way\".\n",
        "    \"\"\"\n",
        "    adj_list = {}\n",
        "    nodes = []\n",
        "    graph = np.array(graph)\n",
        "    start = None\n",
        "    end = None\n",
        "    for i in range(len(graph)):\n",
        "        if start is None and (graph[i][5], graph[i][6]) == start_node:\n",
        "            start = graph[i][1]\n",
        "        if start is None and (graph[i][7], graph[i][8]) == start_node:\n",
        "            start = graph[i][2]\n",
        "        if end is None and (graph[i][5], graph[i][6]) == end_node:\n",
        "            end = graph[i][1]\n",
        "        if end is None and (graph[i][7], graph[i][8]) == end_node:\n",
        "            end = graph[i][2]\n",
        "        if graph[i][2] not in adj_list:\n",
        "            adj_list[graph[i][2]] = []\n",
        "        adj_list[graph[i][2]].append((graph[i][1], graph[i][3]))\n",
        "        if graph[i][1] not in adj_list:\n",
        "            adj_list[graph[i][1]] = []\n",
        "        adj_list[graph[i][1]].append((graph[i][2], graph[i][3]))\n",
        "        nodes.append(graph[i][1])\n",
        "        nodes.append(graph[i][2])\n",
        "    nodes = list(set(nodes))\n",
        "    path, distance = dijkstra(adj_list, start, end, nodes)\n",
        "    return path\n"
      ]
    },
    {
      "cell_type": "markdown",
      "metadata": {},
      "source": [
        "You should **upload** this cell (`find_shortest_path` function) as a .py file to quera. Your code will be verified if it is actually finding the shortest path and only if it's correct, you will get the grades of this section. Be sure that you put the approriate `import ...` statements at the first of your `.py` file. Remember, you **can not** use any library that does the \"shortest path\" for you. (like networkx) You should implement it yourself.\n",
        "\n",
        "**Note**: You can add other functions and codes to above cell, but you code should have the `find_shortest_path` function with exactly same signature that we have provided. Your code will be tested with calling this function. So, using other functions is not a problem, but keep in mind that the main entry for your code when we test it is the `find_shortest_path` function. Nothing else!"
      ]
    },
    {
      "cell_type": "code",
      "execution_count": 47,
      "metadata": {},
      "outputs": [
        {
          "data": {
            "text/plain": [
              "[4695975717, 1721683025, 423815697, 423815691, 423815693]"
            ]
          },
          "execution_count": 47,
          "metadata": {},
          "output_type": "execute_result"
        }
      ],
      "source": [
        "# Create a trip: Choose 2 random points as start and end points and find the shortest path between them.\n",
        "# A trip is a list of node_ids from start_node to end_node.\n",
        "\n",
        "# TODO: Implement and print out a sample trip\n",
        "find_shortest_path((35.776615142822266, 51.45381164550781), (35.77814865112305, 51.449337005615234), pasdaran_streets)"
      ]
    },
    {
      "cell_type": "markdown",
      "metadata": {
        "id": "YP2kS2GHx02G"
      },
      "source": [
        "Visualize the sampled trip (in the previous cell) on the map. Use `kepler` library for this purpose. Notice that you use keplers \"timestep\" attributes to create a timeline, so you can see the trip's process from _start\\_node_ to _end\\_node_. (You can see an output sample in the next cell)"
      ]
    },
    {
      "cell_type": "code",
      "execution_count": 48,
      "metadata": {
        "colab": {
          "base_uri": "https://localhost:8080/",
          "height": 511
        },
        "id": "kWhW3mIizZ0_",
        "outputId": "1a3319b9-fac1-42ef-e666-8072a9e6ab5f"
      },
      "outputs": [],
      "source": [
        "#TODO: Visualize the sampled trip using kepler\n",
        "pasdaran_nodes = pd.read_csv('pasdaran_nodes.csv')\n",
        "nodes = np.array(pasdaran_nodes)\n",
        "nodes = {nodes[i][0]: (nodes[i][1], nodes[i][2]) for i in range(len(nodes))}\n",
        "trip = find_shortest_path(nodes[4696627039], nodes[423816012], pasdaran_streets)\n",
        "\n",
        "data = {\n",
        "    'lat': [nodes[x][0] for x in trip],\n",
        "    'lon': [nodes[x][1] for x in trip],\n",
        "    'timestamp': [int(time.time() + i)  for i in range(len(trip))]\n",
        "}\n",
        "df = pd.DataFrame(data, columns=['lat', 'lon', 'timestamp'])"
      ]
    },
    {
      "cell_type": "code",
      "execution_count": 49,
      "metadata": {},
      "outputs": [
        {
          "name": "stdout",
          "output_type": "stream",
          "text": [
            "User Guide: https://docs.kepler.gl/docs/keplergl-jupyter\n"
          ]
        },
        {
          "data": {
            "application/vnd.jupyter.widget-view+json": {
              "model_id": "279a6f926c79476f96119fa1402087d8",
              "version_major": 2,
              "version_minor": 0
            },
            "text/plain": [
              "KeplerGl(config={'version': 'v1', 'config': {'visState': {'filters': [{'dataId': ['trip'], 'id': 'vbi8ol9j', '…"
            ]
          },
          "metadata": {},
          "output_type": "display_data"
        }
      ],
      "source": [
        "map_2 = KeplerGl(height=600, config=config_2)\n",
        "map_2.add_data(data=df, name='trip')\n",
        "map_2"
      ]
    },
    {
      "cell_type": "markdown",
      "metadata": {
        "id": "2GRdEUrF7EgN"
      },
      "source": [
        "Now, we are going to get the points in the middle of the streets. Before, we only had the intersections of the streets(start and end nodes of a section). But we know in real life, we get gps locations also in between and not necessarily in the intersections. So, we should add these points to our data. We call every entity of this type as `Ride`. A ride is defined by 3 parameters:\n",
        "1. `ride_speed`: The speed of the ride which driver is driving with. We assume that the driver is driving with a constant speed.\n",
        "2. `driver_gps_time`: The time interval that the driver sends his/her gps location to the server. (e.g. every 5 seconds)\n",
        "3. `trip`: The specific trip that the driver is driving in. (we created this in the previous cells)\n",
        "\n",
        "Now, you should define a function that gets these parameters and returns the locations (lat/longs) in the ride regarding the given parameters."
      ]
    },
    {
      "cell_type": "code",
      "execution_count": 50,
      "metadata": {
        "id": "WSkJzEmelmbU"
      },
      "outputs": [],
      "source": [
        "#TODO\n",
        "from haversine import haversine, Unit\n",
        "def visualize_a_ride(ride_speed, ride_gps_time, trip):\n",
        "    # ride speed is in m/s\n",
        "    # ride_gps_time is in seconds\n",
        "    cover = ride_speed * ride_gps_time\n",
        "    lat_lons = {node: None for node in trip}\n",
        "    nodes = np.array(pasdaran_nodes)\n",
        "    for i in range(len(nodes)):\n",
        "        if nodes[i][0] in lat_lons:\n",
        "            lat_lons[nodes[i][0]] = (nodes[i][1], nodes[i][2])\n",
        "    distances = []\n",
        "    for i in range(len(trip)-1):\n",
        "        distances.append(haversine(lat_lons[trip[i]], lat_lons[trip[i+1]], unit = Unit.METERS))  # distance in meters\n",
        "\n",
        "    cumulative_distances = []\n",
        "    for i in range(len(distances)):\n",
        "        cumulative_distances.append(sum(distances[:i+1]))\n",
        "\n",
        "    num_points = int(cumulative_distances[-1] / cover)\n",
        "    covered = 0\n",
        "    result = [lat_lons[trip[0]]]\n",
        "    for i in range(num_points):\n",
        "        covered += cover\n",
        "        for j in range(len(cumulative_distances)):\n",
        "            if covered < cumulative_distances[j]:\n",
        "                k = j\n",
        "                remaining = cumulative_distances[j] - covered\n",
        "                break\n",
        "        new_lat = (lat_lons[trip[k]][0] * (remaining / distances[k])) + (lat_lons[trip[k+1]][0] * (1 - remaining / distances[k]))\n",
        "        new_lon = (lat_lons[trip[k]][1] * (remaining / distances[k])) + (lat_lons[trip[k+1]][1] * (1 - remaining / distances[k]))\n",
        "        result.append((new_lat, new_lon))\n",
        "    return result"
      ]
    },
    {
      "cell_type": "markdown",
      "metadata": {
        "id": "WuXoo-N37JS8"
      },
      "source": [
        "See a sample ride, printed out."
      ]
    },
    {
      "cell_type": "code",
      "execution_count": 51,
      "metadata": {
        "colab": {
          "base_uri": "https://localhost:8080/"
        },
        "id": "dMtD7q7TlmbU",
        "outputId": "0842e970-ff9a-492a-d0aa-31c44f8a6103"
      },
      "outputs": [
        {
          "data": {
            "text/plain": [
              "[(35.776615142822266, 51.45381164550781),\n",
              " (35.77592523844158, 51.45356010286898),\n",
              " (35.77543213006236, 51.45316211450938),\n",
              " (35.77488619995229, 51.452769946668084),\n",
              " (35.774210704019, 51.4524647295173),\n",
              " (35.773960468642095, 51.451911967219026),\n",
              " (35.77419910388606, 51.45107540321772),\n",
              " (35.77443773913002, 51.45023883921642),\n",
              " (35.77410918569886, 51.449734046934964),\n",
              " (35.77373350192322, 51.4492007831267),\n",
              " (35.773989551957094, 51.44837208065222),\n",
              " (35.77420618901829, 51.447565557046744),\n",
              " (35.77353028661171, 51.44726170866163),\n",
              " (35.77285452645846, 51.4469573837485),\n",
              " (35.77268545719364, 51.44636424337032),\n",
              " (35.772922640578244, 51.445527646490774),\n",
              " (35.77280428652187, 51.44466537372446),\n",
              " (35.772586822721316, 51.44382010649308),\n",
              " (35.77237303129879, 51.44297341791979),\n",
              " (35.77216333976152, 51.44212524957968)]"
            ]
          },
          "execution_count": 51,
          "metadata": {},
          "output_type": "execute_result"
        }
      ],
      "source": [
        "#TODO\n",
        "ride_speed = 40     # in m/s\n",
        "ride_gps_time = 2   # in s\n",
        "trip = find_shortest_path(nodes[4695975717], nodes[4698344869], pasdaran_streets)\n",
        "visualize_a_ride(ride_speed, ride_gps_time, trip)"
      ]
    },
    {
      "cell_type": "markdown",
      "metadata": {
        "id": "_Bi1o_2o7Q3r"
      },
      "source": [
        "Visualize the sample ride on the map using `kepler` library. You should define an animation based on the order of the points in the ride, so you can play the animation in the visualization and see the ride!"
      ]
    },
    {
      "cell_type": "code",
      "execution_count": 52,
      "metadata": {
        "colab": {
          "base_uri": "https://localhost:8080/",
          "height": 511
        },
        "id": "lSqTVxIqlmbU",
        "outputId": "7835933e-d766-4b60-ed5e-732ed19fdd77"
      },
      "outputs": [],
      "source": [
        "#TODO: Visualize the sampled ride using kepler\n",
        "ride_speed = 40     # in m/s\n",
        "ride_gps_time = 2   # in s\n",
        "trip = find_shortest_path(nodes[4696627039], nodes[423816012], pasdaran_streets)\n",
        "ride = visualize_a_ride(ride_speed, ride_gps_time, trip)\n",
        "\n",
        "data = {\n",
        "    'lat': [x[0] for x in ride],\n",
        "    'lon': [x[1] for x in ride],\n",
        "    'timestamp': [int(time.time() + i)  for i in range(len(ride))]\n",
        "}\n",
        "df = pd.DataFrame(data, columns=['lat', 'lon', 'timestamp'])"
      ]
    },
    {
      "cell_type": "code",
      "execution_count": 53,
      "metadata": {},
      "outputs": [
        {
          "name": "stdout",
          "output_type": "stream",
          "text": [
            "User Guide: https://docs.kepler.gl/docs/keplergl-jupyter\n"
          ]
        },
        {
          "data": {
            "application/vnd.jupyter.widget-view+json": {
              "model_id": "7131db0779df4f87a7720d4cf58836a5",
              "version_major": 2,
              "version_minor": 0
            },
            "text/plain": [
              "KeplerGl(config={'version': 'v1', 'config': {'visState': {'filters': [{'dataId': ['ride'], 'id': '9lcw1lzo', '…"
            ]
          },
          "metadata": {},
          "output_type": "display_data"
        }
      ],
      "source": [
        "map_3 = KeplerGl(height=600, config = config_3)\n",
        "map_3.add_data(data=df, name='ride')\n",
        "map_3"
      ]
    },
    {
      "cell_type": "markdown",
      "metadata": {
        "id": "DMixk41z8Zil"
      },
      "source": [
        "Now, to complete our dataset, we need to put some random noise on the gps locations. For this sake, we easily add some random noise to the lat/longs of a created `ride`. You should define a function that gets a `ride` and adds some random noise to the lat/longs of the ride. Your function should take in 2 parameters: _ride_ and _gps\\_noise\\_radius_ which is the radius of the circle that you want to add noise to the gps locations. (e.g. 10 meters). The gps noise in assumed to be a normal distribution. So, assume `standard deviation` of the noise to be `gps_noise_radius`."
      ]
    },
    {
      "cell_type": "code",
      "execution_count": 54,
      "metadata": {
        "colab": {
          "base_uri": "https://localhost:8080/"
        },
        "id": "-ghTr5-IlmbU",
        "outputId": "69044cc2-556d-4ee2-93aa-b05ed36e9444"
      },
      "outputs": [
        {
          "data": {
            "text/plain": [
              "[(35.77664933773778, 51.43721861688498),\n",
              " (35.77127468894295, 51.45423921767296),\n",
              " (35.78574644120513, 51.48114059257452),\n",
              " (35.772169531550894, 51.44809363104599),\n",
              " (35.78088605322543, 51.43715893360681),\n",
              " (35.772366079054436, 51.43886560897538),\n",
              " (35.76061806975746, 51.46444395158855),\n",
              " (35.78663344646022, 51.44614643861661),\n",
              " (35.78222719753042, 51.46005825834726),\n",
              " (35.782481021668794, 51.4416614383023),\n",
              " (35.78641717292705, 51.4385039826949),\n",
              " (35.773832306227284, 51.424518212399335),\n",
              " (35.771901955765486, 51.452636361479954),\n",
              " (35.77957034005102, 51.44206783561338),\n",
              " (35.782562124593476, 51.44252597993128),\n",
              " (35.78060213911052, 51.43339320055572)]"
            ]
          },
          "execution_count": 54,
          "metadata": {},
          "output_type": "execute_result"
        }
      ],
      "source": [
        "# put a random noise on each (lat, lon) location to simulate the GPS noise (suppoes GPS radius is 3 - 8 meters)\n",
        "# TODO\n",
        "def add_gps_noise(ride, gps_radius):\n",
        "    result = []\n",
        "    for i in range(len(ride)):\n",
        "        result.append((ride[i][0] + np.random.normal(0, gps_radius), ride[i][1] + np.random.normal(0, gps_radius)))\n",
        "    return result\n",
        "\n",
        "\n",
        "# Print out a sample\n",
        "ride_speed = 50     # in m/s\n",
        "ride_gps_time = 2   # in s\n",
        "trip = find_shortest_path(nodes[4695975717], nodes[4698344869], pasdaran_streets)\n",
        "ride = visualize_a_ride(ride_speed, ride_gps_time, trip)\n",
        "add_gps_noise(ride, .01)"
      ]
    },
    {
      "cell_type": "markdown",
      "metadata": {},
      "source": [
        "### Different noise models\n",
        "Experiment adding noise to rides using different models (PDFs) of noise. For example, you can use a uniform distribution for noise. Or you can use a normal distribution for noise. Or you can use a mixture of different distributions. You can also use a distribution that is dependent on the speed of the ride.\n",
        "1. Visualize each noise model (PDF) on a plot. (You can use `matplotlib` library for this purpose)\n",
        "2. Visualize the rides with different noise models on the map. (You can use `kepler` library for this purpose)\n",
        "3. Compare the results of different noise models. Which one is more descriptive of the real world? Why?\n",
        "4. Choose one model that you find appropriate for training your HMM on it. We will use that model for the rest of the project."
      ]
    },
    {
      "cell_type": "code",
      "execution_count": 55,
      "metadata": {},
      "outputs": [
        {
          "name": "stdout",
          "output_type": "stream",
          "text": [
            "Distance between original and moved point: 100.00013812661143\n"
          ]
        }
      ],
      "source": [
        "import math\n",
        "# first we write a function that moves a point in a direction(angle) by some given distance\n",
        "# and outputs the latitude and longitude of the new point\n",
        "def move_point(angle, distance, point):\n",
        "    latitude, longitude = point\n",
        "    earth_radius = 6371.0\n",
        "    distance /= 1000\n",
        "    angle_rad = math.radians(angle)\n",
        "    latitude_rad = math.radians(latitude)\n",
        "    longitude_rad = math.radians(longitude)\n",
        "    new_latitude = math.asin(math.sin(latitude_rad) * math.cos(distance / earth_radius) +\n",
        "                             math.cos(latitude_rad) * math.sin(distance / earth_radius) * math.cos(angle_rad))\n",
        "    new_longitude = longitude_rad + math.atan2(math.sin(angle_rad) * math.sin(distance / earth_radius) * math.cos(latitude_rad),\n",
        "                                               math.cos(distance / earth_radius) - math.sin(latitude_rad) * math.sin(new_latitude))    \n",
        "    new_latitude = math.degrees(new_latitude)\n",
        "    new_longitude = math.degrees(new_longitude)\n",
        "    return new_latitude, new_longitude\n",
        "\n",
        "# Test:\n",
        "angle = 45                  # in degrees\n",
        "distance = 100              # in meters\n",
        "initial_latitude = 40.7128\n",
        "initial_longitude = -74.0060\n",
        "new_lat, new_long = move_point(angle, distance, (initial_latitude, initial_longitude))\n",
        "print(f'Distance between original and moved point: {haversine((new_lat, new_long), (initial_latitude, initial_longitude), unit=Unit.METERS)}')"
      ]
    },
    {
      "cell_type": "code",
      "execution_count": 56,
      "metadata": {},
      "outputs": [],
      "source": [
        "#TODO: Experimenting with different GPS noise radiuses\n",
        "def add_uniform_noise(ride, gps_radius):\n",
        "    result = []\n",
        "    for i in range(len(ride)):\n",
        "        angle = np.random.uniform(0, 360)\n",
        "        distance = np.random.uniform(0, gps_radius)\n",
        "        new_lat, new_long = move_point(angle, distance, ride[i])\n",
        "        result.append((new_lat, new_long))\n",
        "    return result\n",
        "\n",
        "def add_normal_noise(ride, gps_radius):\n",
        "    result = []\n",
        "    for i in range(len(ride)):\n",
        "        angle = np.random.uniform(0, 360)\n",
        "        distance = np.random.normal(0, gps_radius)\n",
        "        new_lat, new_long = move_point(angle, distance, ride[i])\n",
        "        result.append((new_lat, new_long))\n",
        "    return result\n",
        "\n",
        "def add_exponential_noise(ride, gps_radius):\n",
        "    result = []\n",
        "    for i in range(len(ride)):\n",
        "        angle = np.random.uniform(0, 360)\n",
        "        distance = np.random.exponential(gps_radius)\n",
        "        new_lat, new_long = move_point(angle, distance, ride[i])\n",
        "        result.append((new_lat, new_long))\n",
        "    return result\n",
        "\n",
        "def add_normal_speed_noise(ride, gps_radius, speed):\n",
        "    result = []\n",
        "    for i in range(len(ride)):\n",
        "        angle = np.random.uniform(0, 360)\n",
        "        distance = np.random.normal(0, gps_radius*speed/50)\n",
        "        new_lat, new_long = move_point(angle, distance, ride[i])\n",
        "        result.append((new_lat, new_long))\n",
        "    return result"
      ]
    },
    {
      "cell_type": "code",
      "execution_count": 57,
      "metadata": {},
      "outputs": [],
      "source": [
        "#TODO: Visualize the noise models using matplotlib\n",
        "import matplotlib.pyplot as plt\n",
        "ride_speed = 50     # in m/s\n",
        "ride_gps_time = 2   # in s\n",
        "trip = find_shortest_path(nodes[4695975717], nodes[4698344869], pasdaran_streets)\n",
        "ride = visualize_a_ride(ride_speed, ride_gps_time, trip)\n",
        "\n",
        "ride_uniform = add_uniform_noise(ride, 50)\n",
        "ride_normal = add_normal_noise(ride, 50)\n",
        "ride_exponential = add_exponential_noise(ride, 30)\n",
        "ride_normal_speed = add_normal_speed_noise(ride, 50, ride_speed)"
      ]
    },
    {
      "cell_type": "code",
      "execution_count": 58,
      "metadata": {},
      "outputs": [
        {
          "data": {
            "image/png": "[encoded data removed]",
            "text/plain": [
              "<Figure size 1500x600 with 3 Axes>"
            ]
          },
          "metadata": {},
          "output_type": "display_data"
        }
      ],
      "source": [
        "import numpy as np\n",
        "import matplotlib.pyplot as plt\n",
        "\n",
        "# Generating data for each distribution\n",
        "uniform_data = np.random.uniform(-.001, .001, 1000000)\n",
        "normal_data = np.random.normal(0, .001, 1000000)\n",
        "exponential_data = np.random.exponential(.001, 1000000)\n",
        "\n",
        "# Plotting the PDFs\n",
        "plt.figure(figsize=(15, 6))\n",
        "\n",
        "plt.subplot(1, 3, 1)\n",
        "count, bins, ignored = plt.hist(uniform_data, 30, density=True, alpha=0.7)\n",
        "plt.title('Uniform Distribution')\n",
        "\n",
        "plt.subplot(1, 3, 2)\n",
        "count, bins, ignored = plt.hist(normal_data, 30, density=True, alpha=0.7)\n",
        "plt.title('Normal (Gaussian) Distribution')\n",
        "\n",
        "plt.subplot(1, 3, 3)\n",
        "count, bins, ignored = plt.hist(exponential_data, 30, density=True, alpha=0.7)\n",
        "plt.title('Exponential Distribution')\n",
        "\n",
        "plt.tight_layout()\n",
        "plt.show()\n"
      ]
    },
    {
      "cell_type": "code",
      "execution_count": 59,
      "metadata": {},
      "outputs": [
        {
          "data": {
            "image/png": "[encoded data removed]",
            "text/plain": [
              "<Figure size 800x1500 with 5 Axes>"
            ]
          },
          "metadata": {},
          "output_type": "display_data"
        }
      ],
      "source": [
        "import matplotlib.pyplot as plt\n",
        "\n",
        "# Create subplots for each type of ride\n",
        "fig, axs = plt.subplots(5, 1, figsize=(8, 15))\n",
        "\n",
        "# Scatterplot for 'original' ride\n",
        "axs[0].scatter([x[0] for x in ride], [x[1] for x in ride], color='blue', label='Original Ride')\n",
        "axs[0].set_xlabel('Latitude')\n",
        "axs[0].set_ylabel('Longitude') \n",
        "axs[0].legend()\n",
        "axs[0].set_title('Original Ride')\n",
        "\n",
        "# Scatterplot for 'uniform' ride\n",
        "axs[1].scatter([x[0] for x in ride], [x[1] for x in ride], color='blue', label='Original Ride')\n",
        "axs[1].scatter([x[0] for x in ride_uniform], [x[1] for x in ride_uniform], color='red', label='Uniform Distribution')\n",
        "axs[1].set_xlabel('Latitude')\n",
        "axs[1].set_ylabel('Longitude') \n",
        "axs[1].legend()\n",
        "axs[1].set_title('Uniform Distribution Noise vs Original Ride')\n",
        "\n",
        "# Scatterplot for 'normal' ride\n",
        "axs[2].scatter([x[0] for x in ride], [x[1] for x in ride], color='blue', label='Original Ride')\n",
        "axs[2].scatter([x[0] for x in ride_normal], [x[1] for x in ride_normal], color='green', label='Normal Distribution')\n",
        "axs[2].set_xlabel('Latitude')\n",
        "axs[2].set_ylabel('Longitude') \n",
        "axs[2].legend()\n",
        "axs[2].set_title('Normal Distribution Noise vs Original Ride')\n",
        "\n",
        "# Scatterplot for 'exponential' ride\n",
        "axs[3].scatter([x[0] for x in ride], [x[1] for x in ride], color='blue', label='Original Ride')\n",
        "axs[3].scatter([x[0] for x in ride_exponential], [x[1] for x in ride_exponential], color='yellow', label='Exponential Distribution')\n",
        "axs[3].set_xlabel('Latitude')\n",
        "axs[3].set_ylabel('Longitude') \n",
        "axs[3].legend()\n",
        "axs[3].set_title('Exponential Distribution Noise vs Original Ride')\n",
        "\n",
        "# Scatterplot for 'normal_speed' ride\n",
        "axs[4].scatter([x[0] for x in ride], [x[1] for x in ride], color='blue', label='Original Ride')\n",
        "axs[4].scatter([x[0] for x in ride_normal_speed], [x[1] for x in ride_normal_speed], color='black', label='Normal Speed Distribution')\n",
        "axs[4].set_xlabel('Latitude')\n",
        "axs[4].set_ylabel('Longitude') \n",
        "axs[4].legend()\n",
        "axs[4].set_title('Normal Speed Distribution Noise vs Original Ride')\n",
        "\n",
        "plt.tight_layout()\n",
        "plt.show()\n"
      ]
    },
    {
      "cell_type": "code",
      "execution_count": 60,
      "metadata": {},
      "outputs": [],
      "source": [
        "\n",
        "data_ride = {\n",
        "    'lat': [x[0] for x in ride],\n",
        "    'lon': [x[1] for x in ride],\n",
        "    'timestamp': [int(time.time() + i)  for i in range(len(ride))]\n",
        "}\n",
        "data_ride_uniform = {\n",
        "    'lat': [x[0] for x in ride_uniform],\n",
        "    'lon': [x[1] for x in ride_uniform],\n",
        "    'timestamp': [int(time.time() + i)  for i in range(len(ride_uniform))]\n",
        "}\n",
        "data_ride_normal = {\n",
        "    'lat': [x[0] for x in ride_normal],\n",
        "    'lon': [x[1] for x in ride_normal],\n",
        "    'timestamp': [int(time.time() + i)  for i in range(len(ride_normal))]\n",
        "}\n",
        "data_ride_exponential = {\n",
        "    'lat': [x[0] for x in ride_exponential],\n",
        "    'lon': [x[1] for x in ride_exponential],\n",
        "    'timestamp': [int(time.time() + i)  for i in range(len(ride_exponential))]\n",
        "}\n",
        "data_ride_normal_speed = {\n",
        "    'lat': [x[0] for x in ride_normal_speed],\n",
        "    'lon': [x[1] for x in ride_normal_speed],\n",
        "    'timestamp': [int(time.time() + i)  for i in range(len(ride_normal_speed))]\n",
        "}\n",
        "\n",
        "df_ride = pd.DataFrame(data_ride, columns=['lat', 'lon', 'timestamp'])\n",
        "df_ride_uniform = pd.DataFrame(data_ride_uniform, columns=['lat', 'lon', 'timestamp'])\n",
        "df_ride_normal = pd.DataFrame(data_ride_normal, columns=['lat', 'lon', 'timestamp'])\n",
        "df_ride_exponential = pd.DataFrame(data_ride_exponential, columns=['lat', 'lon', 'timestamp'])\n",
        "df_ride_normal_speed = pd.DataFrame(data_ride_normal_speed, columns=['lat', 'lon', 'timestamp'])"
      ]
    },
    {
      "cell_type": "code",
      "execution_count": 61,
      "metadata": {},
      "outputs": [
        {
          "name": "stdout",
          "output_type": "stream",
          "text": [
            "User Guide: https://docs.kepler.gl/docs/keplergl-jupyter\n"
          ]
        },
        {
          "data": {
            "application/vnd.jupyter.widget-view+json": {
              "model_id": "60fafc01e6f84a63b8911680f3c953b4",
              "version_major": 2,
              "version_minor": 0
            },
            "text/plain": [
              "KeplerGl(data={'Original': {'index': [0, 1, 2, 3, 4, 5, 6, 7, 8, 9, 10, 11, 12, 13, 14, 15], 'columns': ['lat'…"
            ]
          },
          "metadata": {},
          "output_type": "display_data"
        }
      ],
      "source": [
        "map_4 = KeplerGl(height=600,)\n",
        "map_4.add_data(data=df_ride, name='Original')\n",
        "map_4.add_data(data=df_ride_uniform, name='Uniform')\n",
        "map_4.add_data(data=df_ride_normal, name='Normal')\n",
        "map_4.add_data(data=df_ride_exponential, name='Exponential')\n",
        "map_4.add_data(data=df_ride_normal_speed, name='Normal_speed')\n",
        "map_4"
      ]
    },
    {
      "cell_type": "markdown",
      "metadata": {},
      "source": [
        "**Explanation of my noise model:**\n",
        "\n",
        "Adding noise to our data based on normal distribution seems like a perfectly fine assumption about the noise present in the noisy reads from GPS. This distribution works fine for describing random errors and is widely used for a lot of adding noise models because of the Centeral Limit Theorem. Because the amount of noise in the gps reads also depends on the speed of the traveler, it also is a good idea to let it influence the amount of noise being injected to our data. So, in my opinion the ```add_normal_speed_noise(ride, gps_radius, speed)``` function is the best candidate for adding noise to the rides."
      ]
    },
    {
      "cell_type": "markdown",
      "metadata": {
        "id": "ijwtglf39JyI"
      },
      "source": [
        "Visualize a sample `ride` and its corresponding `noisy_ride` (using your selected noise model) on the map."
      ]
    },
    {
      "cell_type": "code",
      "execution_count": 62,
      "metadata": {
        "colab": {
          "base_uri": "https://localhost:8080/",
          "height": 511
        },
        "id": "abyNFZqElmbV",
        "outputId": "b811a58a-6289-406e-afd7-c96e8c1d20b2"
      },
      "outputs": [],
      "source": [
        "#TODO: Visualize using kepler\n",
        "ride_speed = 60     # in m/s\n",
        "ride_gps_time = 2   # in s\n",
        "trip = find_shortest_path(nodes[4695975717], nodes[4698344869], pasdaran_streets)\n",
        "ride = visualize_a_ride(ride_speed, ride_gps_time, trip)\n",
        "noisy_ride = add_normal_speed_noise(ride, 40, ride_speed)\n",
        "\n",
        "data_ride = {\n",
        "    'lat': [x[0] for x in ride],\n",
        "    'lon': [x[1] for x in ride],\n",
        "    'timestamp': [int(time.time() + i)  for i in range(len(ride))]\n",
        "}\n",
        "data_noisy_ride = {\n",
        "    'lat': [x[0] for x in noisy_ride],\n",
        "    'lon': [x[1] for x in noisy_ride],\n",
        "    'timestamp': [int(time.time() + i)  for i in range(len(noisy_ride))]\n",
        "}\n",
        "\n",
        "df_ride = pd.DataFrame(data_ride, columns=['lat', 'lon', 'timestamp'])\n",
        "df_noisy_ride = pd.DataFrame(data_noisy_ride, columns=['lat', 'lon', 'timestamp'])"
      ]
    },
    {
      "cell_type": "code",
      "execution_count": 63,
      "metadata": {},
      "outputs": [
        {
          "name": "stdout",
          "output_type": "stream",
          "text": [
            "User Guide: https://docs.kepler.gl/docs/keplergl-jupyter\n"
          ]
        },
        {
          "data": {
            "application/vnd.jupyter.widget-view+json": {
              "model_id": "42567a66431c4b669a8695b6fc838ca0",
              "version_major": 2,
              "version_minor": 0
            },
            "text/plain": [
              "KeplerGl(config={'version': 'v1', 'config': {'visState': {'filters': [], 'layers': [{'id': 'aubru7o', 'type': …"
            ]
          },
          "metadata": {},
          "output_type": "display_data"
        }
      ],
      "source": [
        "map_5 = KeplerGl(height=600, config = config_5)\n",
        "map_5.add_data(data=df_ride, name='Original')\n",
        "map_5.add_data(data=df_noisy_ride, name='Noisy')\n",
        "map_5"
      ]
    },
    {
      "cell_type": "markdown",
      "metadata": {
        "id": "PrNNSj6x-DWd"
      },
      "source": [
        "Now, we create our dataset, We create 20 noisy_rides for each trip."
      ]
    },
    {
      "cell_type": "code",
      "execution_count": 64,
      "metadata": {
        "id": "FxA8kZXP-DHE"
      },
      "outputs": [],
      "source": [
        "#TODO: create and store 20 noisy_rides as a dataset for our HMM to train on it and experiment with it\n",
        "\n",
        "num_rides = 20\n",
        "pasdaran_nodes = pd.read_csv('pasdaran_nodes.csv')\n",
        "nodes = np.array(pasdaran_nodes)\n",
        "nodes = {nodes[i][0]: (nodes[i][1], nodes[i][2]) for i in range(len(nodes))}\n",
        "\n",
        "trip_id = []\n",
        "index = []\n",
        "source = []\n",
        "destination = []\n",
        "lat = []\n",
        "lon = []\n",
        "ride_speed = []\n",
        "ride_gps_time = []\n",
        "\n",
        "trip_id_noisy = []\n",
        "index_noisy = []\n",
        "source_noisy = []\n",
        "destination_noisy = []\n",
        "lat_noisy = []\n",
        "lon_noisy = []\n",
        "ride_speed_noisy = []\n",
        "ride_gps_time_noisy = []\n",
        "\n",
        "\n",
        "\n",
        "i = 0\n",
        "while(i < num_rides):\n",
        "    speed = random.random()*60\n",
        "    gps_time = random.random()*100\n",
        "    gps_radius = 40\n",
        "    s = random.choice(list(nodes.keys()))\n",
        "    t = random.choice(list(nodes.keys()))\n",
        "    trip = find_shortest_path(nodes[s], nodes[t], pasdaran_streets)\n",
        "    if trip == [] or speed == 0 or gps_time == 0:\n",
        "        continue\n",
        "    ride = visualize_a_ride(speed, gps_time, trip)\n",
        "    if len(ride) < 5:\n",
        "        continue\n",
        "\n",
        "    for k in range(len(ride)):\n",
        "        trip_id.append(i)\n",
        "        index.append(k)\n",
        "        source.append(s)\n",
        "        destination.append(t)\n",
        "        lat.append(ride[k][0])\n",
        "        lon.append(ride[k][1])\n",
        "        ride_speed.append(speed)\n",
        "        ride_gps_time.append(gps_time)\n",
        "\n",
        "    noisy_ride = add_normal_speed_noise(ride, gps_radius, speed)\n",
        "    for j in range(len(noisy_ride)):\n",
        "        trip_id_noisy.append(i)\n",
        "        index_noisy.append(j)\n",
        "        source_noisy.append(s)\n",
        "        destination_noisy.append(t)\n",
        "        lat_noisy.append(noisy_ride[j][0])\n",
        "        lon_noisy.append(noisy_ride[j][1])\n",
        "        ride_speed_noisy.append(speed)\n",
        "        ride_gps_time_noisy.append(gps_time)\n",
        "    i += 1\n",
        "\n",
        "\n",
        "rides = {\n",
        "    'trip_id': trip_id,\n",
        "    'index': index,\n",
        "    'source': source,\n",
        "    'destination': destination,\n",
        "    'lat': lat,\n",
        "    'lon': lon,\n",
        "    'ride_speed': ride_speed,\n",
        "    'ride_gps_time': ride_gps_time\n",
        "}\n",
        "\n",
        "noisy_rides = {\n",
        "    'trip_id': trip_id_noisy,\n",
        "    'index': index_noisy,\n",
        "    'source': source_noisy,\n",
        "    'destination': destination_noisy,\n",
        "    'lat': lat_noisy,\n",
        "    'lon': lon_noisy,\n",
        "    'ride_speed': ride_speed_noisy,\n",
        "    'ride_gps_time': ride_gps_time_noisy\n",
        "}\n",
        "\n",
        "df_rides = pd.DataFrame(rides, columns=['trip_id', 'index', 'source', 'destination', 'lat', 'lon', 'ride_speed', 'ride_gps_time'])\n",
        "df_noisy_rides = pd.DataFrame(noisy_rides, columns=['trip_id', 'index', 'source', 'destination', 'lat', 'lon', 'ride_speed', 'ride_gps_time'])\n",
        "\n",
        "df_rides.to_csv('original_rides.csv')\n",
        "df_noisy_rides.to_csv('noisy_rides.csv')  \n"
      ]
    },
    {
      "cell_type": "markdown",
      "metadata": {
        "id": "labjTZ3hivDJ"
      },
      "source": [
        "# HMM"
      ]
    },
    {
      "cell_type": "markdown",
      "metadata": {},
      "source": [
        "In this section, we want to use the dataset that we created in the previous section to train an HMM model. We want to use HMM models to  **denoise** the gps locations of the rides. We assume that the gps locations of the rides are noisy and we want to denoise them using HMM models. The observations in each _timestamp_ are the observed noisy points in the dataset."
      ]
    },
    {
      "cell_type": "markdown",
      "metadata": {},
      "source": [
        "You should implement a class (or function) named HMM which gets the noisy observations and the `streets` of the map (of course, this is not noisy. we saw that as `pasdaran_streets` in the previous section). You should calculate the transition matrix and emission matrix of the HMM model. You should also implement the `viterbi` algorithm to find the most probable sequence of hidden states (which are the points in the streets) given the noisy observations. Finally, your implementation should be capable of returning the denoised gps locations of the rides. Note that how you define your features, and your states. Be creative!"
      ]
    },
    {
      "cell_type": "code",
      "execution_count": 65,
      "metadata": {
        "colab": {
          "base_uri": "https://localhost:8080/"
        },
        "id": "eljM3-Z6SV8k",
        "outputId": "7947e14a-11af-482c-b872-50ae5e11d988"
      },
      "outputs": [],
      "source": [
        "#TODO: Implement helper functions for your calculations"
      ]
    },
    {
      "cell_type": "code",
      "execution_count": 66,
      "metadata": {
        "colab": {
          "base_uri": "https://localhost:8080/"
        },
        "id": "2uPqUJzZZh7Q",
        "outputId": "52638369-e8d8-4501-970c-f1b427f85313"
      },
      "outputs": [],
      "source": [
        "# Define your HMM model\n",
        "# Hint: You can assume states of your HMM model to be streets of the map. You may use other designs as well (based on your creativity)!\n",
        "from haversine import haversine, Unit\n",
        "class HMM:\n",
        "    def __init__(self, streets):\n",
        "        streets = np.array(streets)\n",
        "        self.nodes = {}\n",
        "        for i in range(len(streets)):\n",
        "            if int(streets[i, 1]) not in self.nodes:\n",
        "                self.nodes[streets[i, 1]] = (streets[i, 5], streets[i, 6])\n",
        "            if int(streets[i, 2]) not in self.nodes:\n",
        "                self.nodes[streets[i, 2]] = (streets[i, 7], streets[i, 8])\n",
        "        self.street_nodes = [(self.nodes[streets[i][1]], self.nodes[streets[i][2]]) for i in range(len(streets))]\n",
        "\n",
        "\n",
        "    def preprocess_ride(self, ride, num):\n",
        "        new_ride = []\n",
        "        for i in range(len(ride) - 1):\n",
        "            new_ride.append(ride[i])\n",
        "            for j in range(num-1):\n",
        "                new_point = ((j/num) * ride[i][0] + (1 - j/num) * ride[i+1][0], (j/num) * ride[i][1] + (1 - j/num) * ride[i+1][1])\n",
        "                new_ride.append(new_point)\n",
        "        new_ride.append(ride[-1])\n",
        "        return new_ride\n",
        "    \n",
        "\n",
        "    def distance_point_to_line(self, point, p1, p2, precission):\n",
        "        min_haversine_distance = np.inf\n",
        "        best_point = None\n",
        "        for i in range(precission+1):\n",
        "            dist = haversine(point,  ((((i/precission) * p1[0]) + (((precission-i)/precission) * p2[0])), (((i/precission) * p1[1]) + (((precission-i)/precission) * p2[1]))))\n",
        "            if dist < min_haversine_distance:\n",
        "                min_haversine_distance = dist\n",
        "                best_point = ((((i/precission) * p1[0]) + (((precission-i)/precission) * p2[0])), (((i/precission) * p1[1]) + (((precission-i)/precission) * p2[1])))\n",
        "        return min_haversine_distance, best_point\n",
        "    \n",
        "\n",
        "    def distance_point_to_all(self, point, lines, precission):\n",
        "        distances = []\n",
        "        best_points = []\n",
        "        for i in range(len(lines)):\n",
        "            distance, best_point = (self.distance_point_to_line(point, lines[i][0], lines[i][1], precission))\n",
        "            distances.append(distance)\n",
        "            best_points.append(best_point)\n",
        "        return distances, best_points\n",
        "    \n",
        "\n",
        "    def calculate_projection(self, point, p1, p2, precission):\n",
        "        min_haversine_distance = np.inf\n",
        "        best_point = None\n",
        "        for i in range(precission+1):\n",
        "            dist = haversine(point,  ((((i/precission) * p1[0]) + (((precission-i)/precission) * p2[0])), (((i/precission) * p1[1]) + (((precission-i)/precission) * p2[1]))))\n",
        "            if dist < min_haversine_distance:\n",
        "                min_haversine_distance = dist\n",
        "                best_point = ((((i/precission) * p1[0]) + (((precission-i)/precission) * p2[0])), (((i/precission) * p1[1]) + (((precission-i)/precission) * p2[1])))\n",
        "        return best_point\n",
        "\n",
        "\n",
        "    def transition_prob(self, obs0, obs1, point0, point1, beta):\n",
        "        dist = np.abs(haversine(obs0, obs1) - haversine(point0, point1))\n",
        "        prob = np.exp(-(dist/beta))/beta\n",
        "        return prob\n",
        "        \n",
        "\n",
        "    def viterbi(self, ride, precission, num_candidates, beta):\n",
        "        if ride is None or len(ride) == 0:\n",
        "            return []\n",
        "        \n",
        "        scores = np.ones((len(self.street_nodes)))\n",
        "        first_obs = ride[0]\n",
        "        distances, best_points = self.distance_point_to_all(first_obs, self.street_nodes, precission)\n",
        "        distances = np.array(distances)\n",
        "        candidates = np.argsort(distances)[:num_candidates]\n",
        "        emmisions = np.zeros((len(self.street_nodes)))\n",
        "        for i in candidates:\n",
        "            emmisions[i] = np.exp(-distances[i])\n",
        "        scores = scores * emmisions\n",
        "        paths = {i:[] for i in range(len(self.street_nodes))}\n",
        "\n",
        "        for o in range(1, len(ride)):\n",
        "            new_scores = np.copy(scores)\n",
        "            new_paths = {i:[] for i in range(len(self.street_nodes))}\n",
        "            next_distances, next_best_points = self.distance_point_to_all(ride[o], self.street_nodes, precission)\n",
        "            next_distances = np.array(next_distances)\n",
        "            next_candidates = np.argsort(next_distances)[:num_candidates]\n",
        "            next_emmisions = np.zeros((len(self.street_nodes)))\n",
        "            for i in next_candidates:\n",
        "                next_emmisions[i] = np.exp(-next_distances[i])\n",
        "            for i in next_candidates:\n",
        "                max_score = -np.inf\n",
        "                for j in candidates:\n",
        "                    score = scores[j] * next_emmisions[i]\n",
        "                    score *= self.transition_prob(ride[o-1], ride[o], best_points[j], next_best_points[i], beta)\n",
        "                    if score > max_score:\n",
        "                        max_score = score\n",
        "                        new_scores[i] = score\n",
        "                        new_paths[i] = paths[j] + [j]\n",
        "\n",
        "            scores = new_scores\n",
        "            paths = new_paths\n",
        "            distances = next_distances\n",
        "            candidates = next_candidates\n",
        "            best_points = next_best_points\n",
        "            emmisions = next_emmisions\n",
        "\n",
        "        last_state = np.argmax(scores)\n",
        "        best_path = paths[np.argmax(scores)]\n",
        "        best_path.append(last_state)\n",
        "        return best_path\n",
        "    \n",
        "\n",
        "    def denoise(self, ride, precission=20, num_augmented=4, num_candidates=3, beta=.6):\n",
        "        if ride is None or len(ride) == 0:\n",
        "            return []\n",
        "        ride = self.preprocess_ride(ride, num_augmented)\n",
        "        best_streets = self.viterbi(ride, precission, num_candidates, beta)\n",
        "        new_ride = []\n",
        "        \n",
        "        for r in range(len(ride)):\n",
        "            line = (self.street_nodes[best_streets[r]][0], self.street_nodes[best_streets[r]][1])\n",
        "            projection = self.calculate_projection(ride[r], line[0], line[1], precission)\n",
        "            new_ride.append(projection)\n",
        "            \n",
        "        result = []\n",
        "        for i in range(len(new_ride)):\n",
        "            if i % num_augmented == 0:\n",
        "                result.append(new_ride[i])\n",
        "        return result\n"
      ]
    },
    {
      "cell_type": "code",
      "execution_count": 67,
      "metadata": {},
      "outputs": [],
      "source": [
        "# Use Viterbi Algorithm to find the most probable set of points (denoised points)\n",
        "test_noisy = pd.read_csv(\"noisy_rides.csv\")\n",
        "test_original = pd.read_csv(\"original_rides.csv\")\n",
        "\n",
        "test_noisy = test_noisy[test_noisy['trip_id'] == 0]\n",
        "test_original = test_original[test_original['trip_id'] == 0]\n",
        "noisy_ride = []\n",
        "for j in range(len(test_noisy)):\n",
        "    noisy_ride.append((test_noisy.iloc[j]['lat'], test_noisy.iloc[j]['lon']))\n",
        "original_ride = []\n",
        "for k in range(len(test_original)):\n",
        "    original_ride.append((test_original.iloc[k]['lat'], test_original.iloc[k]['lon']))\n",
        "\n",
        "hmm = HMM(pasdaran_streets)\n",
        "denoised_ride = hmm.denoise(noisy_ride)"
      ]
    },
    {
      "cell_type": "markdown",
      "metadata": {},
      "source": [
        "Visualize a sample denoised _ride_ using your HMM model. Put `original_points` and `denoised_points` on the map. Use different colors for each of them to make them distinct from eachother. You should use `kepler` library for this purpose."
      ]
    },
    {
      "cell_type": "code",
      "execution_count": 68,
      "metadata": {},
      "outputs": [],
      "source": [
        "#TODO: Visualize a sample noisy_ride alongside its denoised version\n",
        "data_original_ride = {\n",
        "    'lat': [x[0] for x in original_ride],\n",
        "    'lon': [x[1] for x in original_ride],\n",
        "    'timestamp': [int(time.time() + i)  for i in range(len(original_ride))]\n",
        "}\n",
        "data_noisy_ride = {\n",
        "    'lat': [x[0] for x in noisy_ride],\n",
        "    'lon': [x[1] for x in noisy_ride],\n",
        "    'timestamp': [int(time.time() + i)  for i in range(len(noisy_ride))]\n",
        "}\n",
        "data_denoised_ride = {\n",
        "    'lat': [x[0] for x in denoised_ride],\n",
        "    'lon': [x[1] for x in denoised_ride],\n",
        "    'timestamp': [int(time.time() + i)  for i in range(len(denoised_ride))]\n",
        "}\n",
        "\n",
        "df_original_ride = pd.DataFrame(data_original_ride, columns=['lat', 'lon', 'timestamp'])\n",
        "df_noisy_ride = pd.DataFrame(data_noisy_ride, columns=['lat', 'lon', 'timestamp'])\n",
        "df_denoised_ride = pd.DataFrame(data_denoised_ride, columns=['lat', 'lon', 'timestamp'])"
      ]
    },
    {
      "cell_type": "code",
      "execution_count": 69,
      "metadata": {},
      "outputs": [
        {
          "name": "stdout",
          "output_type": "stream",
          "text": [
            "User Guide: https://docs.kepler.gl/docs/keplergl-jupyter\n"
          ]
        },
        {
          "data": {
            "application/vnd.jupyter.widget-view+json": {
              "model_id": "ea290b6a0e3f4829b67504d7a48df78e",
              "version_major": 2,
              "version_minor": 0
            },
            "text/plain": [
              "KeplerGl(config={'version': 'v1', 'config': {'visState': {'filters': [], 'layers': [{'id': 'fmvpuni', 'type': …"
            ]
          },
          "metadata": {},
          "output_type": "display_data"
        }
      ],
      "source": [
        "map_6 = KeplerGl(height=600, config=config_6)\n",
        "map_6.add_data(data=df_noisy_ride, name='Noisy')\n",
        "map_6.add_data(data=df_denoised_ride, name='Denoised')\n",
        "map_6"
      ]
    },
    {
      "cell_type": "markdown",
      "metadata": {},
      "source": [
        "# Testing your model"
      ]
    },
    {
      "cell_type": "markdown",
      "metadata": {},
      "source": [
        "In this section, you should test your model. You could use your dataset (which you generated, step-by-step) until now, to implement, debug and train your model. Now, you should load `test_dataset` that we provided to you as `noisy_test_dataset.csv` and `original_test_dataset.csv`. Run your model on `noisy_test_dataset` and use `original_test_dataset` to evaluate how good you did. run your model on `noisy_test_dataset` to denoise the points. You should put the denoised points in a csv file named `denoised_test_dataset.csv` and submit it with your notebook. Also, You should report the **Mean haversine distance (MHD)** as the measaure of the loss of your model. Go through each trip in the `noisy_test_dataset` and calculate the MHD for each trip. Finally, report the average of the MHDs of all the trips in the `test_dataset` as the MHD of your model."
      ]
    },
    {
      "cell_type": "code",
      "execution_count": 70,
      "metadata": {},
      "outputs": [
        {
          "data": {
            "text/html": [
              "<div>\n",
              "<style scoped>\n",
              "    .dataframe tbody tr th:only-of-type {\n",
              "        vertical-align: middle;\n",
              "    }\n",
              "\n",
              "    .dataframe tbody tr th {\n",
              "        vertical-align: top;\n",
              "    }\n",
              "\n",
              "    .dataframe thead th {\n",
              "        text-align: right;\n",
              "    }\n",
              "</style>\n",
              "<table border=\"1\" class=\"dataframe\">\n",
              "  <thead>\n",
              "    <tr style=\"text-align: right;\">\n",
              "      <th></th>\n",
              "      <th>Unnamed: 0</th>\n",
              "      <th>trip_id</th>\n",
              "      <th>index</th>\n",
              "      <th>source</th>\n",
              "      <th>destination</th>\n",
              "      <th>lat</th>\n",
              "      <th>lon</th>\n",
              "      <th>ride_speed</th>\n",
              "      <th>ride_gps_time</th>\n",
              "    </tr>\n",
              "  </thead>\n",
              "  <tbody>\n",
              "    <tr>\n",
              "      <th>0</th>\n",
              "      <td>0</td>\n",
              "      <td>0</td>\n",
              "      <td>0</td>\n",
              "      <td>4429680702</td>\n",
              "      <td>4695666788</td>\n",
              "      <td>35.771816</td>\n",
              "      <td>51.461178</td>\n",
              "      <td>0.00096</td>\n",
              "      <td>0.466</td>\n",
              "    </tr>\n",
              "    <tr>\n",
              "      <th>1</th>\n",
              "      <td>0</td>\n",
              "      <td>0</td>\n",
              "      <td>1</td>\n",
              "      <td>4429680702</td>\n",
              "      <td>4695666788</td>\n",
              "      <td>35.771458</td>\n",
              "      <td>51.460865</td>\n",
              "      <td>0.00096</td>\n",
              "      <td>0.466</td>\n",
              "    </tr>\n",
              "    <tr>\n",
              "      <th>2</th>\n",
              "      <td>0</td>\n",
              "      <td>0</td>\n",
              "      <td>2</td>\n",
              "      <td>4429680702</td>\n",
              "      <td>4695666788</td>\n",
              "      <td>35.770760</td>\n",
              "      <td>51.460239</td>\n",
              "      <td>0.00096</td>\n",
              "      <td>0.466</td>\n",
              "    </tr>\n",
              "    <tr>\n",
              "      <th>3</th>\n",
              "      <td>0</td>\n",
              "      <td>0</td>\n",
              "      <td>3</td>\n",
              "      <td>4429680702</td>\n",
              "      <td>4695666788</td>\n",
              "      <td>35.770027</td>\n",
              "      <td>51.459633</td>\n",
              "      <td>0.00096</td>\n",
              "      <td>0.466</td>\n",
              "    </tr>\n",
              "    <tr>\n",
              "      <th>4</th>\n",
              "      <td>0</td>\n",
              "      <td>0</td>\n",
              "      <td>4</td>\n",
              "      <td>4429680702</td>\n",
              "      <td>4695666788</td>\n",
              "      <td>35.769318</td>\n",
              "      <td>51.459030</td>\n",
              "      <td>0.00096</td>\n",
              "      <td>0.466</td>\n",
              "    </tr>\n",
              "  </tbody>\n",
              "</table>\n",
              "</div>"
            ],
            "text/plain": [
              "   Unnamed: 0  trip_id  index      source  destination        lat        lon  \\\n",
              "0           0        0      0  4429680702   4695666788  35.771816  51.461178   \n",
              "1           0        0      1  4429680702   4695666788  35.771458  51.460865   \n",
              "2           0        0      2  4429680702   4695666788  35.770760  51.460239   \n",
              "3           0        0      3  4429680702   4695666788  35.770027  51.459633   \n",
              "4           0        0      4  4429680702   4695666788  35.769318  51.459030   \n",
              "\n",
              "   ride_speed  ride_gps_time  \n",
              "0     0.00096          0.466  \n",
              "1     0.00096          0.466  \n",
              "2     0.00096          0.466  \n",
              "3     0.00096          0.466  \n",
              "4     0.00096          0.466  "
            ]
          },
          "execution_count": 70,
          "metadata": {},
          "output_type": "execute_result"
        }
      ],
      "source": [
        "from haversine import haversine\n",
        "from tqdm import tqdm\n",
        "\n",
        "def mean_haversine_distance(denoised_points, original_points):\n",
        "    sum_distance = 0\n",
        "    for i in range(len(denoised_points)):\n",
        "        sum_distance += haversine(denoised_points[i], original_points[i])\n",
        "    if len(denoised_points) == 0:\n",
        "        return 0\n",
        "    return sum_distance/len(denoised_points)\n",
        "\n",
        "test_dataset_noisy = pd.read_csv(\"noisy_test_dataset.csv\")\n",
        "test_dataset_original = pd.read_csv(\"original_test_dataset.csv\")\n",
        "\n",
        "test_dataset_original.head()"
      ]
    },
    {
      "cell_type": "code",
      "execution_count": 71,
      "metadata": {},
      "outputs": [
        {
          "data": {
            "text/html": [
              "<div>\n",
              "<style scoped>\n",
              "    .dataframe tbody tr th:only-of-type {\n",
              "        vertical-align: middle;\n",
              "    }\n",
              "\n",
              "    .dataframe tbody tr th {\n",
              "        vertical-align: top;\n",
              "    }\n",
              "\n",
              "    .dataframe thead th {\n",
              "        text-align: right;\n",
              "    }\n",
              "</style>\n",
              "<table border=\"1\" class=\"dataframe\">\n",
              "  <thead>\n",
              "    <tr style=\"text-align: right;\">\n",
              "      <th></th>\n",
              "      <th>Unnamed: 0</th>\n",
              "      <th>trip_id</th>\n",
              "      <th>index</th>\n",
              "      <th>source</th>\n",
              "      <th>destination</th>\n",
              "      <th>lat</th>\n",
              "      <th>lon</th>\n",
              "      <th>ride_speed</th>\n",
              "      <th>ride_gps_time</th>\n",
              "    </tr>\n",
              "  </thead>\n",
              "  <tbody>\n",
              "    <tr>\n",
              "      <th>0</th>\n",
              "      <td>0</td>\n",
              "      <td>0</td>\n",
              "      <td>0</td>\n",
              "      <td>4429680702</td>\n",
              "      <td>4695666788</td>\n",
              "      <td>35.771917</td>\n",
              "      <td>51.461279</td>\n",
              "      <td>0.00096</td>\n",
              "      <td>0.466</td>\n",
              "    </tr>\n",
              "    <tr>\n",
              "      <th>1</th>\n",
              "      <td>0</td>\n",
              "      <td>0</td>\n",
              "      <td>1</td>\n",
              "      <td>4429680702</td>\n",
              "      <td>4695666788</td>\n",
              "      <td>35.771399</td>\n",
              "      <td>51.460806</td>\n",
              "      <td>0.00096</td>\n",
              "      <td>0.466</td>\n",
              "    </tr>\n",
              "    <tr>\n",
              "      <th>2</th>\n",
              "      <td>0</td>\n",
              "      <td>0</td>\n",
              "      <td>2</td>\n",
              "      <td>4429680702</td>\n",
              "      <td>4695666788</td>\n",
              "      <td>35.770759</td>\n",
              "      <td>51.460239</td>\n",
              "      <td>0.00096</td>\n",
              "      <td>0.466</td>\n",
              "    </tr>\n",
              "    <tr>\n",
              "      <th>3</th>\n",
              "      <td>0</td>\n",
              "      <td>0</td>\n",
              "      <td>3</td>\n",
              "      <td>4429680702</td>\n",
              "      <td>4695666788</td>\n",
              "      <td>35.769997</td>\n",
              "      <td>51.459603</td>\n",
              "      <td>0.00096</td>\n",
              "      <td>0.466</td>\n",
              "    </tr>\n",
              "    <tr>\n",
              "      <th>4</th>\n",
              "      <td>0</td>\n",
              "      <td>0</td>\n",
              "      <td>4</td>\n",
              "      <td>4429680702</td>\n",
              "      <td>4695666788</td>\n",
              "      <td>35.769289</td>\n",
              "      <td>51.459002</td>\n",
              "      <td>0.00096</td>\n",
              "      <td>0.466</td>\n",
              "    </tr>\n",
              "  </tbody>\n",
              "</table>\n",
              "</div>"
            ],
            "text/plain": [
              "   Unnamed: 0  trip_id  index      source  destination        lat        lon  \\\n",
              "0           0        0      0  4429680702   4695666788  35.771917  51.461279   \n",
              "1           0        0      1  4429680702   4695666788  35.771399  51.460806   \n",
              "2           0        0      2  4429680702   4695666788  35.770759  51.460239   \n",
              "3           0        0      3  4429680702   4695666788  35.769997  51.459603   \n",
              "4           0        0      4  4429680702   4695666788  35.769289  51.459002   \n",
              "\n",
              "   ride_speed  ride_gps_time  \n",
              "0     0.00096          0.466  \n",
              "1     0.00096          0.466  \n",
              "2     0.00096          0.466  \n",
              "3     0.00096          0.466  \n",
              "4     0.00096          0.466  "
            ]
          },
          "execution_count": 71,
          "metadata": {},
          "output_type": "execute_result"
        }
      ],
      "source": [
        "test_dataset_noisy.head()"
      ]
    },
    {
      "cell_type": "code",
      "execution_count": 72,
      "metadata": {},
      "outputs": [
        {
          "name": "stderr",
          "output_type": "stream",
          "text": [
            "100%|██████████| 20/20 [00:55<00:00,  2.79s/it]\n"
          ]
        }
      ],
      "source": [
        "# Iterate through each noisy ride and denoise it, then calculate the mean haversine distance between the denoised ride and the original ride\n",
        "# Report the Average Mean Haversine Distance for all the rides in the test dataset\n",
        "# This should be of order 10^-3\n",
        "# Iterate through each noisy ride and denoise it, then calculate the mean haversine distance between the denoised ride and the original ride\n",
        "# Report the Average Mean Haversine Distance for all the rides in the test dataset\n",
        "# This should be of order 10^-3\n",
        "hmm = HMM(pasdaran_streets)\n",
        "sum_errors = 0\n",
        "\n",
        "trip_id_denoised = []\n",
        "index_denoised = []\n",
        "source_denoised = []\n",
        "destination_denoised = []\n",
        "lat_denoised = []\n",
        "lon_denoised = []\n",
        "ride_speed_denoised = []\n",
        "ride_gps_time_denoised = []\n",
        "\n",
        "for i in tqdm(range(20)):\n",
        "    test_noisy = test_dataset_noisy[test_dataset_noisy['trip_id'] == i]\n",
        "    test_original = test_dataset_original[test_dataset_original['trip_id'] == i]\n",
        "    noisy_ride = []\n",
        "    for j in range(len(test_noisy)):\n",
        "        noisy_ride.append((test_noisy.iloc[j]['lat'], test_noisy.iloc[j]['lon']))\n",
        "    original_ride = []\n",
        "    for k in range(len(test_original)):\n",
        "        original_ride.append((test_original.iloc[k]['lat'], test_original.iloc[k]['lon']))\n",
        "    \n",
        "    denoised_ride = hmm.denoise(noisy_ride)\n",
        "    sum_errors += mean_haversine_distance(denoised_ride, original_ride)\n",
        "\n",
        "    if len(original_ride) > 0: \n",
        "        trip_id = i\n",
        "        source = test_noisy.iloc[0]['source']\n",
        "        destination = test_noisy.iloc[0]['destination']\n",
        "        ride_speed = test_noisy.iloc[0]['ride_speed']\n",
        "        ride_gps_time = test_noisy.iloc[0]['ride_gps_time']\n",
        "        for j in range(len(denoised_ride)):\n",
        "            trip_id_denoised.append(trip_id)\n",
        "            index_denoised.append(j)\n",
        "            source_denoised.append(source)\n",
        "            destination_denoised.append(destination)\n",
        "            lat_denoised.append(denoised_ride[j][0])\n",
        "            lon_denoised.append(denoised_ride[j][1])\n",
        "            ride_speed_denoised.append(ride_speed)\n",
        "            ride_gps_time_denoised.append(ride_gps_time)\n",
        "\n",
        "\n",
        "denoised_rides = {\n",
        "    'trip_id': trip_id_denoised,\n",
        "    'index': index_denoised,\n",
        "    'source': source_denoised,\n",
        "    'destination': destination_denoised,\n",
        "    'lat': lat_denoised,\n",
        "    'lon': lon_denoised,\n",
        "    'ride_speed': ride_speed_denoised,\n",
        "    'ride_gps_time': ride_gps_time_denoised\n",
        "}\n",
        "denoised_df =  pd.DataFrame(denoised_rides, columns=['trip_id', 'index', 'source', 'destination', 'lat', 'lon', 'ride_speed', 'ride_gps_time'])\n",
        "denoised_df.to_csv('denoised_test_dataset.csv')"
      ]
    },
    {
      "cell_type": "code",
      "execution_count": 73,
      "metadata": {},
      "outputs": [
        {
          "name": "stdout",
          "output_type": "stream",
          "text": [
            "Average loss: 0.006487460763122825\n"
          ]
        }
      ],
      "source": [
        "print(f\"Average loss: {sum_errors/20}\")"
      ]
    },
    {
      "cell_type": "markdown",
      "metadata": {},
      "source": [
        "**How to submit**: You should submit your notebook and the `denoised_test_dataset.csv` file. Your codes are verified based on the \"Mean haversine distance\" value that your code gets and the `denoised_test_dataset.csv`. Also, note that for the **shortest path** section, you should have submitted the `.py` file, containing the `def find_shotest_path(start_node, end_node, graph)` function (and all of necessary imports) on quera. Your code will be verified based on the correctness of the shortest path that you find. So, you should submit these in total:\n",
        "1. `STUDENT_NUMBER_Phase1.ipynb` or `.zip` file containing your notebook and the `denoised_test_dataset.csv` file.\n",
        "2. `STUDENT_NUMBER_Phase1.py` file containing the `find_shortest_path` function. (Also submit this to the related section in quera)\n",
        "3. Printed out Average Haversine Distance in the last cell of notebook. (This should be of order $10^{-3}$)"
      ]
    }
  ],
  "metadata": {
    "colab": {
      "provenance": []
    },
    "kernelspec": {
      "display_name": "Python 3",
      "name": "python3"
    },
    "language_info": {
      "codemirror_mode": {
        "name": "ipython",
        "version": 3
      },
      "file_extension": ".py",
      "mimetype": "text/x-python",
      "name": "python",
      "nbconvert_exporter": "python",
      "pygments_lexer": "ipython3",
      "version": "3.10.12"
    },
    "widgets": {
      "application/vnd.jupyter.widget-state+json": {
        "77b588a25f604d019680da94df72f8d6": {
          "model_module": "keplergl-jupyter",
          "model_module_version": "^0.3.2",
          "model_name": "KeplerGlModal",
          "state": {
            "_dom_classes": [],
            "_model_module": "keplergl-jupyter",
            "_model_module_version": "^0.3.2",
            "_model_name": "KeplerGlModal",
            "_view_count": null,
            "_view_module": "keplergl-jupyter",
            "_view_module_version": "^0.3.2",
            "_view_name": "KeplerGlView",
            "config": {
              "config": {
                "mapState": {
                  "bearing": 0,
                  "dragRotate": false,
                  "isSplit": false,
                  "latitude": 35.741495361297474,
                  "longitude": 51.41731369359277,
                  "pitch": 0,
                  "zoom": 12.133728990493546
                },
                "mapStyle": {
                  "mapStyles": {},
                  "styleType": "dark",
                  "threeDBuildingColor": [
                    9.665468314072013,
                    17.18305478057247,
                    31.1442867897876
                  ],
                  "topLayerGroups": {},
                  "visibleLayerGroups": {
                    "3d building": false,
                    "border": false,
                    "building": true,
                    "label": true,
                    "land": true,
                    "road": true,
                    "water": true
                  }
                },
                "visState": {
                  "animationConfig": {
                    "currentTime": null,
                    "speed": 1
                  },
                  "filters": [],
                  "interactionConfig": {
                    "brush": {
                      "enabled": false,
                      "size": 0.5
                    },
                    "coordinate": {
                      "enabled": false
                    },
                    "geocoder": {
                      "enabled": false
                    },
                    "tooltip": {
                      "compareMode": false,
                      "compareType": "absolute",
                      "enabled": true,
                      "fieldsToShow": {
                        "all_data": [
                          {
                            "format": null,
                            "name": "type"
                          }
                        ]
                      }
                    }
                  },
                  "layerBlending": "normal",
                  "layers": [
                    {
                      "config": {
                        "color": [
                          18,
                          147,
                          154
                        ],
                        "columns": {
                          "altitude": null,
                          "lat": "lat",
                          "lng": "lon"
                        },
                        "dataId": "all_data",
                        "hidden": false,
                        "highlightColor": [
                          252,
                          242,
                          26,
                          255
                        ],
                        "isVisible": true,
                        "label": "locations",
                        "textLabel": [
                          {
                            "alignment": "center",
                            "anchor": "start",
                            "color": [
                              255,
                              255,
                              255
                            ],
                            "field": null,
                            "offset": [
                              0,
                              0
                            ],
                            "size": 18
                          }
                        ],
                        "visConfig": {
                          "colorRange": {
                            "category": "ColorBrewer",
                            "colors": [
                              "#e41a1c",
                              "#377eb8",
                              "#4daf4a",
                              "#984ea3",
                              "#ff7f00",
                              "#ffff33"
                            ],
                            "name": "ColorBrewer Set1-6",
                            "type": "qualitative"
                          },
                          "filled": true,
                          "fixedRadius": false,
                          "opacity": 0.8,
                          "outline": false,
                          "radius": 10,
                          "radiusRange": [
                            0,
                            50
                          ],
                          "strokeColor": null,
                          "strokeColorRange": {
                            "category": "Uber",
                            "colors": [
                              "#5A1846",
                              "#900C3F",
                              "#C70039",
                              "#E3611C",
                              "#F1920E",
                              "#FFC300"
                            ],
                            "name": "Global Warming",
                            "type": "sequential"
                          },
                          "thickness": 2
                        }
                      },
                      "id": "ivbjosj",
                      "type": "point",
                      "visualChannels": {
                        "colorField": {
                          "name": "type",
                          "type": "string"
                        },
                        "colorScale": "ordinal",
                        "sizeField": null,
                        "sizeScale": "linear",
                        "strokeColorField": null,
                        "strokeColorScale": "quantile"
                      }
                    }
                  ],
                  "splitMaps": []
                }
              },
              "version": "v1"
            },
            "data": {
              "all_data": {
                "columns": [
                  "lat",
                  "lon",
                  "type"
                ],
                "data": [
                  [
                    35.76289749145508,
                    51.41752243041992,
                    "university"
                  ],
                  [
                    35.78015899658203,
                    51.31702423095703,
                    "university"
                  ],
                  [
                    35.75886917114258,
                    51.400691986083984,
                    "university"
                  ],
                  [
                    35.80634689331055,
                    51.43412780761719,
                    "university"
                  ],
                  [
                    35.70586395263672,
                    51.39415740966797,
                    "university"
                  ],
                  [
                    35.71175765991211,
                    51.41083908081055,
                    "university"
                  ],
                  [
                    35.703773498535156,
                    51.399173736572266,
                    "university"
                  ],
                  [
                    35.6207160949707,
                    51.391910552978516,
                    "university"
                  ],
                  [
                    35.70736312866211,
                    51.39768600463867,
                    "university"
                  ],
                  [
                    35.70258331298828,
                    51.41768264770508,
                    "university"
                  ],
                  [
                    35.70863342285156,
                    51.38536071777344,
                    "university"
                  ],
                  [
                    35.77996826171875,
                    51.380184173583984,
                    "university"
                  ],
                  [
                    35.72111511230469,
                    51.38161849975586,
                    "university"
                  ],
                  [
                    35.79006576538086,
                    51.312965393066406,
                    "university"
                  ],
                  [
                    35.72325134277344,
                    51.385257720947266,
                    "university"
                  ],
                  [
                    35.72307205200195,
                    51.38475036621094,
                    "university"
                  ],
                  [
                    35.800254821777344,
                    51.462608337402344,
                    "university"
                  ],
                  [
                    35.8005485534668,
                    51.46290588378906,
                    "university"
                  ],
                  [
                    35.80044937133789,
                    51.46282958984375,
                    "university"
                  ],
                  [
                    35.8001708984375,
                    51.4626350402832,
                    "university"
                  ],
                  [
                    35.80037307739258,
                    51.46287155151367,
                    "university"
                  ],
                  [
                    35.809818267822266,
                    51.46974182128906,
                    "university"
                  ],
                  [
                    35.80210876464844,
                    51.49042510986328,
                    "university"
                  ],
                  [
                    35.802467346191406,
                    51.49069595336914,
                    "university"
                  ],
                  [
                    35.802852630615234,
                    51.491119384765625,
                    "university"
                  ],
                  [
                    35.805320739746094,
                    51.49176025390625,
                    "university"
                  ],
                  [
                    35.69378662109375,
                    51.411800384521484,
                    "university"
                  ],
                  [
                    35.70403289794922,
                    51.35809326171875,
                    "high_school"
                  ],
                  [
                    35.75897979736328,
                    51.350746154785156,
                    "high_school"
                  ],
                  [
                    35.71183395385742,
                    51.49424743652344,
                    "high_school"
                  ],
                  [
                    35.66155242919922,
                    51.351497650146484,
                    "high_school"
                  ],
                  [
                    35.662174224853516,
                    51.35105895996094,
                    "high_school"
                  ],
                  [
                    35.66262435913086,
                    51.351051330566406,
                    "high_school"
                  ],
                  [
                    35.77766036987305,
                    51.33124923706055,
                    "high_school"
                  ],
                  [
                    35.71391677856445,
                    51.459285736083984,
                    "high_school"
                  ],
                  [
                    35.69200897216797,
                    51.39494705200195,
                    "high_school"
                  ],
                  [
                    35.71049880981445,
                    51.47433090209961,
                    "high_school"
                  ],
                  [
                    35.631343841552734,
                    51.409542083740234,
                    "high_school"
                  ],
                  [
                    35.629573822021484,
                    51.410064697265625,
                    "high_school"
                  ],
                  [
                    35.75343704223633,
                    51.527591705322266,
                    "high_school"
                  ],
                  [
                    35.690223693847656,
                    51.392024993896484,
                    "high_school"
                  ],
                  [
                    35.73594665527344,
                    51.29774475097656,
                    "high_school"
                  ],
                  [
                    35.724422454833984,
                    51.406089782714844,
                    "cafe"
                  ],
                  [
                    35.774654388427734,
                    51.37675857543945,
                    "cafe"
                  ],
                  [
                    35.767845153808594,
                    51.44182586669922,
                    "cafe"
                  ],
                  [
                    35.75910568237305,
                    51.453399658203125,
                    "cafe"
                  ],
                  [
                    35.790802001953125,
                    51.41978073120117,
                    "cafe"
                  ],
                  [
                    35.697750091552734,
                    51.407203674316406,
                    "cafe"
                  ],
                  [
                    35.75694274902344,
                    51.34369659423828,
                    "cafe"
                  ],
                  [
                    35.79023361206055,
                    51.49240493774414,
                    "cafe"
                  ],
                  [
                    35.76307678222656,
                    51.33781814575195,
                    "cafe"
                  ],
                  [
                    35.77212905883789,
                    51.38304138183594,
                    "cafe"
                  ],
                  [
                    35.70368576049805,
                    51.4019775390625,
                    "cafe"
                  ],
                  [
                    35.722991943359375,
                    51.40835189819336,
                    "cafe"
                  ],
                  [
                    35.727569580078125,
                    51.407840728759766,
                    "cafe"
                  ],
                  [
                    35.63152313232422,
                    51.41822052001953,
                    "cafe"
                  ],
                  [
                    35.709388732910156,
                    51.42061996459961,
                    "cafe"
                  ],
                  [
                    35.725318908691406,
                    51.41109848022461,
                    "cafe"
                  ],
                  [
                    35.70684051513672,
                    51.414459228515625,
                    "cafe"
                  ],
                  [
                    35.6965446472168,
                    51.42274856567383,
                    "cafe"
                  ],
                  [
                    35.725250244140625,
                    51.33550262451172,
                    "cafe"
                  ],
                  [
                    35.753082275390625,
                    51.333251953125,
                    "cafe"
                  ],
                  [
                    35.69471740722656,
                    51.41681671142578,
                    "cafe"
                  ],
                  [
                    35.71518325805664,
                    51.419681549072266,
                    "cafe"
                  ],
                  [
                    35.76353073120117,
                    51.4109992980957,
                    "cafe"
                  ],
                  [
                    35.71308898925781,
                    51.41477584838867,
                    "cafe"
                  ],
                  [
                    35.76559066772461,
                    51.45576858520508,
                    "cafe"
                  ],
                  [
                    35.76375961303711,
                    51.3369140625,
                    "cafe"
                  ],
                  [
                    35.75556182861328,
                    51.45295715332031,
                    "cafe"
                  ],
                  [
                    35.72909927368164,
                    51.41273880004883,
                    "cafe"
                  ],
                  [
                    35.73232650756836,
                    51.48518371582031,
                    "cafe"
                  ],
                  [
                    35.723331451416016,
                    51.42930221557617,
                    "cafe"
                  ],
                  [
                    35.76866149902344,
                    51.458248138427734,
                    "cafe"
                  ],
                  [
                    35.76603317260742,
                    51.354736328125,
                    "cafe"
                  ],
                  [
                    35.71354675292969,
                    51.39773178100586,
                    "cafe"
                  ],
                  [
                    35.707435607910156,
                    51.39046096801758,
                    "cafe"
                  ],
                  [
                    35.7591438293457,
                    51.404632568359375,
                    "cafe"
                  ],
                  [
                    35.7248649597168,
                    51.404911041259766,
                    "cafe"
                  ],
                  [
                    35.729496002197266,
                    51.3992805480957,
                    "cafe"
                  ],
                  [
                    35.726768493652344,
                    51.40500259399414,
                    "cafe"
                  ],
                  [
                    35.71022033691406,
                    51.44589614868164,
                    "cafe"
                  ],
                  [
                    35.76286697387695,
                    51.444618225097656,
                    "cafe"
                  ],
                  [
                    35.75719451904297,
                    51.41733169555664,
                    "cafe"
                  ],
                  [
                    35.77216720581055,
                    51.43892288208008,
                    "cafe"
                  ],
                  [
                    35.70035934448242,
                    51.38949966430664,
                    "cafe"
                  ],
                  [
                    35.762081146240234,
                    51.381324768066406,
                    "cafe"
                  ],
                  [
                    35.785369873046875,
                    51.4234504699707,
                    "cafe"
                  ],
                  [
                    35.776527404785156,
                    51.36223220825195,
                    "cafe"
                  ],
                  [
                    35.77958679199219,
                    51.367088317871094,
                    "cafe"
                  ],
                  [
                    35.700286865234375,
                    51.40456771850586,
                    "cafe"
                  ],
                  [
                    35.771156311035156,
                    51.37647247314453,
                    "cafe"
                  ],
                  [
                    35.777076721191406,
                    51.413604736328125,
                    "cafe"
                  ],
                  [
                    35.786170959472656,
                    51.371952056884766,
                    "cafe"
                  ],
                  [
                    35.70206069946289,
                    51.398681640625,
                    "cafe"
                  ],
                  [
                    35.71193313598633,
                    51.42136001586914,
                    "cafe"
                  ],
                  [
                    35.70170974731445,
                    51.40547180175781,
                    "cafe"
                  ],
                  [
                    35.68861770629883,
                    51.41917419433594,
                    "cafe"
                  ],
                  [
                    35.70580291748047,
                    51.425819396972656,
                    "cafe"
                  ],
                  [
                    35.70561218261719,
                    51.423526763916016,
                    "cafe"
                  ],
                  [
                    35.70561599731445,
                    51.42327117919922,
                    "cafe"
                  ],
                  [
                    35.70555114746094,
                    51.42277908325195,
                    "cafe"
                  ],
                  [
                    35.71506881713867,
                    51.421897888183594,
                    "cafe"
                  ],
                  [
                    35.73873519897461,
                    51.313541412353516,
                    "cafe"
                  ],
                  [
                    35.7122688293457,
                    51.416194915771484,
                    "cafe"
                  ],
                  [
                    35.745811462402344,
                    51.40472412109375,
                    "cafe"
                  ],
                  [
                    35.708072662353516,
                    51.39726638793945,
                    "cafe"
                  ],
                  [
                    35.79587936401367,
                    51.443939208984375,
                    "cafe"
                  ],
                  [
                    35.76286315917969,
                    51.45756912231445,
                    "cafe"
                  ],
                  [
                    35.71192169189453,
                    51.421627044677734,
                    "cafe"
                  ],
                  [
                    35.794410705566406,
                    51.4733772277832,
                    "cafe"
                  ],
                  [
                    35.71864700317383,
                    51.428504943847656,
                    "cafe"
                  ],
                  [
                    35.72669982910156,
                    51.30411911010742,
                    "cafe"
                  ],
                  [
                    35.676116943359375,
                    51.42127227783203,
                    "cafe"
                  ],
                  [
                    35.754127502441406,
                    51.41910934448242,
                    "cafe"
                  ],
                  [
                    35.71757125854492,
                    51.426536560058594,
                    "cafe"
                  ],
                  [
                    35.72337341308594,
                    51.429283142089844,
                    "cafe"
                  ],
                  [
                    35.705440521240234,
                    51.406158447265625,
                    "cafe"
                  ],
                  [
                    35.69971466064453,
                    51.402793884277344,
                    "cafe"
                  ],
                  [
                    35.72304153442383,
                    51.322532653808594,
                    "cafe"
                  ],
                  [
                    35.78276062011719,
                    51.436344146728516,
                    "cafe"
                  ],
                  [
                    35.774322509765625,
                    51.42145538330078,
                    "cafe"
                  ],
                  [
                    35.776405334472656,
                    51.41335678100586,
                    "cafe"
                  ],
                  [
                    35.73759460449219,
                    51.41489028930664,
                    "cafe"
                  ],
                  [
                    35.79175567626953,
                    51.43525695800781,
                    "cafe"
                  ],
                  [
                    35.72116470336914,
                    51.33324432373047,
                    "cafe"
                  ],
                  [
                    35.80258560180664,
                    51.457584381103516,
                    "cafe"
                  ],
                  [
                    35.764713287353516,
                    51.45895004272461,
                    "cafe"
                  ],
                  [
                    35.738582611083984,
                    51.313663482666016,
                    "cafe"
                  ],
                  [
                    35.80086898803711,
                    51.48409652709961,
                    "cafe"
                  ],
                  [
                    35.78458023071289,
                    51.37349319458008,
                    "cafe"
                  ],
                  [
                    35.79568099975586,
                    51.39535903930664,
                    "cafe"
                  ],
                  [
                    35.749855041503906,
                    51.39814758300781,
                    "cafe"
                  ],
                  [
                    35.74991226196289,
                    51.398136138916016,
                    "cafe"
                  ],
                  [
                    35.70216369628906,
                    51.40282440185547,
                    "cafe"
                  ],
                  [
                    35.70133972167969,
                    51.43513870239258,
                    "cafe"
                  ],
                  [
                    35.697845458984375,
                    51.378562927246094,
                    "cafe"
                  ],
                  [
                    35.7081413269043,
                    51.41559982299805,
                    "cafe"
                  ],
                  [
                    35.724266052246094,
                    51.43381881713867,
                    "cafe"
                  ],
                  [
                    35.70137405395508,
                    51.41690444946289,
                    "cafe"
                  ],
                  [
                    35.77505111694336,
                    51.436336517333984,
                    "cafe"
                  ],
                  [
                    35.7017936706543,
                    51.39128112792969,
                    "cafe"
                  ],
                  [
                    35.744571685791016,
                    51.398643493652344,
                    "cafe"
                  ],
                  [
                    35.715763092041016,
                    51.41240692138672,
                    "cafe"
                  ],
                  [
                    35.69470977783203,
                    51.41780090332031,
                    "cafe"
                  ],
                  [
                    35.6952018737793,
                    51.43265914916992,
                    "cafe"
                  ],
                  [
                    35.68989944458008,
                    51.42830276489258,
                    "cafe"
                  ],
                  [
                    35.699588775634766,
                    51.4194450378418,
                    "cafe"
                  ],
                  [
                    35.768795013427734,
                    51.462345123291016,
                    "cafe"
                  ],
                  [
                    35.76981735229492,
                    51.45973205566406,
                    "cafe"
                  ],
                  [
                    35.80223083496094,
                    51.45801544189453,
                    "cafe"
                  ],
                  [
                    35.760799407958984,
                    51.40492630004883,
                    "cafe"
                  ],
                  [
                    35.78624725341797,
                    51.42687225341797,
                    "cafe"
                  ],
                  [
                    35.78534698486328,
                    51.42979049682617,
                    "cafe"
                  ],
                  [
                    35.711185455322266,
                    51.41284942626953,
                    "cafe"
                  ],
                  [
                    35.75334548950195,
                    51.4124641418457,
                    "cafe"
                  ],
                  [
                    35.69802474975586,
                    51.40579605102539,
                    "cafe"
                  ],
                  [
                    35.72294998168945,
                    51.44863510131836,
                    "cafe"
                  ],
                  [
                    35.69292068481445,
                    51.41434860229492,
                    "cafe"
                  ],
                  [
                    35.78012466430664,
                    51.36083221435547,
                    "cafe"
                  ],
                  [
                    35.78132629394531,
                    51.335052490234375,
                    "cafe"
                  ],
                  [
                    35.70237731933594,
                    51.402347564697266,
                    "cafe"
                  ],
                  [
                    35.723018646240234,
                    51.43146896362305,
                    "cafe"
                  ],
                  [
                    35.701480865478516,
                    51.41166687011719,
                    "cafe"
                  ],
                  [
                    35.70283508300781,
                    51.42124938964844,
                    "cafe"
                  ],
                  [
                    35.68946838378906,
                    51.40704345703125,
                    "cafe"
                  ],
                  [
                    35.721275329589844,
                    51.433589935302734,
                    "cafe"
                  ],
                  [
                    35.77017593383789,
                    51.49202346801758,
                    "cafe"
                  ],
                  [
                    35.79787826538086,
                    51.44856262207031,
                    "cafe"
                  ],
                  [
                    35.7652587890625,
                    51.35844039916992,
                    "cafe"
                  ],
                  [
                    35.76520919799805,
                    51.358177185058594,
                    "cafe"
                  ],
                  [
                    35.76002502441406,
                    51.33375930786133,
                    "cafe"
                  ],
                  [
                    35.75056076049805,
                    51.39841842651367,
                    "cafe"
                  ],
                  [
                    35.80780029296875,
                    51.42704772949219,
                    "cafe"
                  ],
                  [
                    35.764312744140625,
                    51.350582122802734,
                    "cafe"
                  ],
                  [
                    35.7015495300293,
                    51.40038299560547,
                    "cafe"
                  ],
                  [
                    35.70505142211914,
                    51.41578674316406,
                    "cafe"
                  ],
                  [
                    35.72111511230469,
                    51.320438385009766,
                    "cafe"
                  ],
                  [
                    35.70899200439453,
                    51.41307830810547,
                    "cafe"
                  ],
                  [
                    35.757083892822266,
                    51.45296096801758,
                    "cafe"
                  ],
                  [
                    35.761966705322266,
                    51.459712982177734,
                    "cafe"
                  ],
                  [
                    35.703556060791016,
                    51.41585159301758,
                    "cafe"
                  ],
                  [
                    35.707763671875,
                    51.434471130371094,
                    "cafe"
                  ],
                  [
                    35.76963806152344,
                    51.44078826904297,
                    "cafe"
                  ],
                  [
                    35.80937957763672,
                    51.454627990722656,
                    "cafe"
                  ],
                  [
                    35.71023941040039,
                    51.414215087890625,
                    "cafe"
                  ],
                  [
                    35.71392822265625,
                    51.41915512084961,
                    "cafe"
                  ],
                  [
                    35.726234436035156,
                    51.526702880859375,
                    "cafe"
                  ],
                  [
                    35.71406555175781,
                    51.418296813964844,
                    "cafe"
                  ],
                  [
                    35.77045822143555,
                    51.46163558959961,
                    "cafe"
                  ],
                  [
                    35.70259094238281,
                    51.40258026123047,
                    "cafe"
                  ],
                  [
                    35.698856353759766,
                    51.406341552734375,
                    "cafe"
                  ],
                  [
                    35.77899169921875,
                    51.376319885253906,
                    "cafe"
                  ],
                  [
                    35.729434967041016,
                    51.49258804321289,
                    "cafe"
                  ],
                  [
                    35.76433181762695,
                    51.4845085144043,
                    "cafe"
                  ],
                  [
                    35.77115249633789,
                    51.35517120361328,
                    "cafe"
                  ],
                  [
                    35.76969528198242,
                    51.4264030456543,
                    "cafe"
                  ],
                  [
                    35.7047119140625,
                    51.390804290771484,
                    "cafe"
                  ],
                  [
                    35.7903938293457,
                    51.461238861083984,
                    "cafe"
                  ],
                  [
                    35.755149841308594,
                    51.45304870605469,
                    "cafe"
                  ],
                  [
                    35.74198532104492,
                    51.44419860839844,
                    "cafe"
                  ],
                  [
                    35.7099609375,
                    51.41895294189453,
                    "cafe"
                  ],
                  [
                    35.78750228881836,
                    51.423526763916016,
                    "cafe"
                  ],
                  [
                    35.70117950439453,
                    51.41415786743164,
                    "cafe"
                  ],
                  [
                    35.70115280151367,
                    51.41484451293945,
                    "cafe"
                  ],
                  [
                    35.77179718017578,
                    51.42901611328125,
                    "cafe"
                  ],
                  [
                    35.71628952026367,
                    51.417999267578125,
                    "cafe"
                  ],
                  [
                    35.69702911376953,
                    51.40525817871094,
                    "cafe"
                  ],
                  [
                    35.70446014404297,
                    51.40089416503906,
                    "cafe"
                  ],
                  [
                    35.63487243652344,
                    51.381256103515625,
                    "cafe"
                  ],
                  [
                    35.697288513183594,
                    51.40028381347656,
                    "cafe"
                  ],
                  [
                    35.79673385620117,
                    51.44426345825195,
                    "cafe"
                  ],
                  [
                    35.72031021118164,
                    51.405006408691406,
                    "cafe"
                  ],
                  [
                    35.76267623901367,
                    51.4416389465332,
                    "cafe"
                  ],
                  [
                    35.70962905883789,
                    51.38954162597656,
                    "cafe"
                  ],
                  [
                    35.721492767333984,
                    51.43083953857422,
                    "cafe"
                  ],
                  [
                    35.745323181152344,
                    51.5163688659668,
                    "cafe"
                  ],
                  [
                    35.768775939941406,
                    51.466094970703125,
                    "cafe"
                  ],
                  [
                    35.76815414428711,
                    51.4650993347168,
                    "cafe"
                  ],
                  [
                    35.790218353271484,
                    51.46113204956055,
                    "cafe"
                  ],
                  [
                    35.76251220703125,
                    51.41444778442383,
                    "cafe"
                  ],
                  [
                    35.77495574951172,
                    51.436492919921875,
                    "cafe"
                  ],
                  [
                    35.79266357421875,
                    51.452789306640625,
                    "cafe"
                  ],
                  [
                    35.73377990722656,
                    51.34520721435547,
                    "cafe"
                  ],
                  [
                    35.72542190551758,
                    51.4110221862793,
                    "cafe"
                  ],
                  [
                    35.7710075378418,
                    51.420745849609375,
                    "cafe"
                  ],
                  [
                    35.702369689941406,
                    51.40862274169922,
                    "cafe"
                  ],
                  [
                    35.80111312866211,
                    51.415992736816406,
                    "cafe"
                  ],
                  [
                    35.71823501586914,
                    51.420616149902344,
                    "cafe"
                  ],
                  [
                    35.702415466308594,
                    51.39781951904297,
                    "cafe"
                  ],
                  [
                    35.64780044555664,
                    51.39326477050781,
                    "cafe"
                  ],
                  [
                    35.79930114746094,
                    51.46697998046875,
                    "cafe"
                  ],
                  [
                    35.76483917236328,
                    51.440834045410156,
                    "cafe"
                  ],
                  [
                    35.736289978027344,
                    51.33262634277344,
                    "cafe"
                  ],
                  [
                    35.79326629638672,
                    51.42427444458008,
                    "cafe"
                  ],
                  [
                    35.6976203918457,
                    51.394691467285156,
                    "cafe"
                  ],
                  [
                    35.79032516479492,
                    51.42139434814453,
                    "cafe"
                  ],
                  [
                    35.72048568725586,
                    51.41410827636719,
                    "cafe"
                  ],
                  [
                    35.7376708984375,
                    51.43244934082031,
                    "cafe"
                  ],
                  [
                    35.63514709472656,
                    51.40928649902344,
                    "cafe"
                  ],
                  [
                    35.78006362915039,
                    51.44975280761719,
                    "cafe"
                  ],
                  [
                    35.700767517089844,
                    51.39577102661133,
                    "cafe"
                  ]
                ],
                "index": [
                  782,
                  928,
                  1191,
                  3344,
                  3867,
                  4643,
                  5146,
                  5866,
                  7953,
                  9300,
                  9645,
                  9696,
                  14937,
                  17874,
                  18031,
                  18032,
                  18141,
                  18142,
                  18143,
                  18144,
                  18145,
                  18146,
                  18147,
                  18148,
                  18149,
                  18150,
                  19239,
                  99,
                  2080,
                  2285,
                  3217,
                  3218,
                  3219,
                  3367,
                  6083,
                  6269,
                  6775,
                  7019,
                  7020,
                  8802,
                  11068,
                  17658,
                  191,
                  604,
                  684,
                  698,
                  945,
                  1447,
                  1678,
                  1817,
                  1904,
                  1948,
                  1975,
                  2084,
                  2086,
                  2087,
                  2114,
                  2160,
                  2184,
                  2239,
                  2276,
                  2388,
                  2407,
                  2416,
                  2419,
                  2420,
                  2433,
                  2577,
                  2614,
                  2802,
                  2886,
                  3098,
                  3181,
                  3228,
                  3270,
                  3271,
                  3337,
                  3407,
                  3408,
                  3409,
                  3516,
                  3563,
                  3570,
                  3967,
                  4079,
                  4087,
                  4204,
                  4230,
                  4241,
                  4243,
                  4266,
                  4330,
                  4386,
                  4526,
                  4559,
                  4644,
                  4646,
                  4699,
                  4700,
                  4702,
                  4703,
                  4774,
                  4913,
                  4956,
                  4957,
                  4958,
                  5076,
                  5157,
                  5299,
                  5349,
                  5518,
                  5625,
                  5641,
                  5737,
                  5922,
                  6087,
                  6118,
                  6126,
                  6133,
                  6174,
                  6223,
                  6226,
                  6238,
                  6240,
                  6262,
                  6334,
                  6398,
                  6401,
                  6483,
                  6536,
                  6540,
                  6563,
                  6575,
                  6721,
                  6728,
                  6739,
                  6801,
                  6816,
                  6818,
                  6884,
                  6889,
                  7242,
                  7526,
                  7730,
                  7758,
                  7807,
                  7860,
                  7926,
                  7944,
                  8135,
                  8195,
                  8225,
                  8226,
                  8365,
                  8374,
                  8416,
                  8450,
                  8509,
                  8587,
                  8724,
                  8749,
                  8774,
                  8775,
                  8797,
                  8859,
                  8953,
                  8962,
                  8969,
                  9083,
                  9084,
                  9098,
                  9385,
                  9617,
                  9761,
                  9966,
                  9992,
                  10126,
                  10275,
                  10431,
                  10432,
                  10464,
                  10624,
                  10754,
                  10770,
                  10950,
                  11014,
                  11088,
                  11174,
                  11307,
                  11616,
                  11685,
                  11704,
                  11894,
                  12040,
                  12092,
                  12229,
                  12230,
                  12308,
                  12384,
                  12394,
                  12397,
                  12672,
                  12956,
                  12960,
                  13004,
                  13134,
                  13160,
                  13199,
                  13212,
                  13324,
                  13978,
                  14044,
                  14082,
                  14171,
                  14437,
                  14532,
                  14755,
                  14756,
                  15075,
                  15184,
                  15326,
                  15549,
                  15868,
                  16009,
                  16187,
                  16316,
                  16354,
                  17152,
                  17227,
                  17677,
                  17794,
                  18034,
                  18216,
                  18254,
                  18263,
                  18488,
                  18642,
                  18663,
                  18932,
                  19069,
                  19083
                ]
              }
            },
            "height": 800,
            "layout": "IPY_MODEL_7f0e0643151c4b4c8166724f7b2e8ab5",
            "value": "Hello World!"
          }
        },
        "7f0e0643151c4b4c8166724f7b2e8ab5": {
          "model_module": "@jupyter-widgets/base",
          "model_module_version": "1.2.0",
          "model_name": "LayoutModel",
          "state": {
            "_model_module": "@jupyter-widgets/base",
            "_model_module_version": "1.2.0",
            "_model_name": "LayoutModel",
            "_view_count": null,
            "_view_module": "@jupyter-widgets/base",
            "_view_module_version": "1.2.0",
            "_view_name": "LayoutView",
            "align_content": null,
            "align_items": null,
            "align_self": null,
            "border": null,
            "bottom": null,
            "display": null,
            "flex": null,
            "flex_flow": null,
            "grid_area": null,
            "grid_auto_columns": null,
            "grid_auto_flow": null,
            "grid_auto_rows": null,
            "grid_column": null,
            "grid_gap": null,
            "grid_row": null,
            "grid_template_areas": null,
            "grid_template_columns": null,
            "grid_template_rows": null,
            "height": null,
            "justify_content": null,
            "justify_items": null,
            "left": null,
            "margin": null,
            "max_height": null,
            "max_width": null,
            "min_height": null,
            "min_width": null,
            "object_fit": null,
            "object_position": null,
            "order": null,
            "overflow": null,
            "overflow_x": null,
            "overflow_y": null,
            "padding": null,
            "right": null,
            "top": null,
            "visibility": null,
            "width": null
          }
        }
      }
    }
  },
  "nbformat": 4,
  "nbformat_minor": 0
}
